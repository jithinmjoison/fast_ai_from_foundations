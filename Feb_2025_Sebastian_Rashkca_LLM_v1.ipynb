{
  "nbformat": 4,
  "nbformat_minor": 0,
  "metadata": {
    "colab": {
      "provenance": [],
      "gpuType": "T4",
      "authorship_tag": "ABX9TyN109v6axIGT5r0cfIuJXUH",
      "include_colab_link": true
    },
    "kernelspec": {
      "name": "python3",
      "display_name": "Python 3"
    },
    "language_info": {
      "name": "python"
    },
    "accelerator": "GPU"
  },
  "cells": [
    {
      "cell_type": "markdown",
      "metadata": {
        "id": "view-in-github",
        "colab_type": "text"
      },
      "source": [
        "<a href=\"https://colab.research.google.com/github/jithinmjoison/fast_ai_from_foundations/blob/main/Feb_2025_Sebastian_Rashkca_LLM_v1.ipynb\" target=\"_parent\"><img src=\"https://colab.research.google.com/assets/colab-badge.svg\" alt=\"Open In Colab\"/></a>"
      ]
    },
    {
      "cell_type": "code",
      "execution_count": 1,
      "metadata": {
        "colab": {
          "base_uri": "https://localhost:8080/"
        },
        "id": "HyP57aMe5sRP",
        "outputId": "cb96ab31-2104-4340-e084-43904eaed199"
      },
      "outputs": [
        {
          "output_type": "execute_result",
          "data": {
            "text/plain": [
              "('the-verdict.txt', <http.client.HTTPMessage at 0x7f367b586e90>)"
            ]
          },
          "metadata": {},
          "execution_count": 1
        }
      ],
      "source": [
        "import urllib.request\n",
        "\n",
        "url = (\"https://raw.githubusercontent.com/rasbt/\"\n",
        "       \"LLMs-from-scratch/main/ch02/01_main-chapter-code/\"\n",
        "       \"the-verdict.txt\")\n",
        "file_path = 'the-verdict.txt'\n",
        "\n",
        "urllib.request .urlretrieve(url, file_path)\n"
      ]
    },
    {
      "cell_type": "code",
      "source": [
        "with open(\"the-verdict.txt\",\"r\",encoding=\"utf-8\") as f:\n",
        "    text = f.read()\n",
        "print(\"total number of characters\",len(text))\n",
        "print(text[:99])"
      ],
      "metadata": {
        "colab": {
          "base_uri": "https://localhost:8080/"
        },
        "id": "HxhOObDH7JhN",
        "outputId": "c184ec7f-6cd5-4120-da36-7f374267750c"
      },
      "execution_count": 2,
      "outputs": [
        {
          "output_type": "stream",
          "name": "stdout",
          "text": [
            "total number of characters 20479\n",
            "I HAD always thought Jack Gisburn rather a cheap genius--though a good fellow enough--so it was no \n"
          ]
        }
      ]
    },
    {
      "cell_type": "code",
      "source": [
        "### Using the regex to split the word\n",
        "import re\n",
        "##text = \"Hello, world. This, is a test.\"\n",
        "#result = re.split(r'(\\s)', text)\n",
        "#print(result)"
      ],
      "metadata": {
        "id": "dG-7R6S_7hEb"
      },
      "execution_count": 3,
      "outputs": []
    },
    {
      "cell_type": "code",
      "source": [
        "result = re.split(r'([,.]|\\s)', text)\n",
        "print(result)\n"
      ],
      "metadata": {
        "colab": {
          "base_uri": "https://localhost:8080/"
        },
        "id": "VGOr8BA37tEh",
        "outputId": "03a9a97f-3457-4930-cf6e-c7c1b690d7da"
      },
      "execution_count": 4,
      "outputs": [
        {
          "output_type": "stream",
          "name": "stdout",
          "text": [
            "['I', ' ', 'HAD', ' ', 'always', ' ', 'thought', ' ', 'Jack', ' ', 'Gisburn', ' ', 'rather', ' ', 'a', ' ', 'cheap', ' ', 'genius--though', ' ', 'a', ' ', 'good', ' ', 'fellow', ' ', 'enough--so', ' ', 'it', ' ', 'was', ' ', 'no', ' ', 'great', ' ', 'surprise', ' ', 'to', ' ', 'me', ' ', 'to', ' ', 'hear', ' ', 'that', ',', '', ' ', 'in', ' ', 'the', ' ', 'height', ' ', 'of', ' ', 'his', ' ', 'glory', ',', '', ' ', 'he', ' ', 'had', ' ', 'dropped', ' ', 'his', ' ', 'painting', ',', '', ' ', 'married', ' ', 'a', ' ', 'rich', ' ', 'widow', ',', '', ' ', 'and', ' ', 'established', ' ', 'himself', ' ', 'in', ' ', 'a', ' ', 'villa', ' ', 'on', ' ', 'the', ' ', 'Riviera', '.', '', ' ', '(Though', ' ', 'I', ' ', 'rather', ' ', 'thought', ' ', 'it', ' ', 'would', ' ', 'have', ' ', 'been', ' ', 'Rome', ' ', 'or', ' ', 'Florence', '.', ')', '\\n', '', '\\n', '\"The', ' ', 'height', ' ', 'of', ' ', 'his', ' ', 'glory\"--that', ' ', 'was', ' ', 'what', ' ', 'the', ' ', 'women', ' ', 'called', ' ', 'it', '.', '', ' ', 'I', ' ', 'can', ' ', 'hear', ' ', 'Mrs', '.', '', ' ', 'Gideon', ' ', 'Thwing--his', ' ', 'last', ' ', 'Chicago', ' ', 'sitter--deploring', ' ', 'his', ' ', 'unaccountable', ' ', 'abdication', '.', '', ' ', '\"Of', ' ', 'course', ' ', \"it's\", ' ', 'going', ' ', 'to', ' ', 'send', ' ', 'the', ' ', 'value', ' ', 'of', ' ', 'my', ' ', 'picture', ' ', \"'way\", ' ', 'up;', ' ', 'but', ' ', 'I', ' ', \"don't\", ' ', 'think', ' ', 'of', ' ', 'that', ',', '', ' ', 'Mr', '.', '', ' ', 'Rickham--the', ' ', 'loss', ' ', 'to', ' ', 'Arrt', ' ', 'is', ' ', 'all', ' ', 'I', ' ', 'think', ' ', 'of', '.', '\"', ' ', 'The', ' ', 'word', ',', '', ' ', 'on', ' ', 'Mrs', '.', '', ' ', \"Thwing's\", ' ', 'lips', ',', '', ' ', 'multiplied', ' ', 'its', ' ', '_rs_', ' ', 'as', ' ', 'though', ' ', 'they', ' ', 'were', ' ', 'reflected', ' ', 'in', ' ', 'an', ' ', 'endless', ' ', 'vista', ' ', 'of', ' ', 'mirrors', '.', '', ' ', 'And', ' ', 'it', ' ', 'was', ' ', 'not', ' ', 'only', ' ', 'the', ' ', 'Mrs', '.', '', ' ', 'Thwings', ' ', 'who', ' ', 'mourned', '.', '', ' ', 'Had', ' ', 'not', ' ', 'the', ' ', 'exquisite', ' ', 'Hermia', ' ', 'Croft', ',', '', ' ', 'at', ' ', 'the', ' ', 'last', ' ', 'Grafton', ' ', 'Gallery', ' ', 'show', ',', '', ' ', 'stopped', ' ', 'me', ' ', 'before', ' ', \"Gisburn's\", ' ', '\"Moon-dancers\"', ' ', 'to', ' ', 'say', ',', '', ' ', 'with', ' ', 'tears', ' ', 'in', ' ', 'her', ' ', 'eyes:', ' ', '\"We', ' ', 'shall', ' ', 'not', ' ', 'look', ' ', 'upon', ' ', 'its', ' ', 'like', ' ', 'again\"?', '\\n', '', '\\n', 'Well!--even', ' ', 'through', ' ', 'the', ' ', 'prism', ' ', 'of', ' ', \"Hermia's\", ' ', 'tears', ' ', 'I', ' ', 'felt', ' ', 'able', ' ', 'to', ' ', 'face', ' ', 'the', ' ', 'fact', ' ', 'with', ' ', 'equanimity', '.', '', ' ', 'Poor', ' ', 'Jack', ' ', 'Gisburn!', ' ', 'The', ' ', 'women', ' ', 'had', ' ', 'made', ' ', 'him--it', ' ', 'was', ' ', 'fitting', ' ', 'that', ' ', 'they', ' ', 'should', ' ', 'mourn', ' ', 'him', '.', '', ' ', 'Among', ' ', 'his', ' ', 'own', ' ', 'sex', ' ', 'fewer', ' ', 'regrets', ' ', 'were', ' ', 'heard', ',', '', ' ', 'and', ' ', 'in', ' ', 'his', ' ', 'own', ' ', 'trade', ' ', 'hardly', ' ', 'a', ' ', 'murmur', '.', '', ' ', 'Professional', ' ', 'jealousy?', ' ', 'Perhaps', '.', '', ' ', 'If', ' ', 'it', ' ', 'were', ',', '', ' ', 'the', ' ', 'honour', ' ', 'of', ' ', 'the', ' ', 'craft', ' ', 'was', ' ', 'vindicated', ' ', 'by', ' ', 'little', ' ', 'Claude', ' ', 'Nutley', ',', '', ' ', 'who', ',', '', ' ', 'in', ' ', 'all', ' ', 'good', ' ', 'faith', ',', '', ' ', 'brought', ' ', 'out', ' ', 'in', ' ', 'the', ' ', 'Burlington', ' ', 'a', ' ', 'very', ' ', 'handsome', ' ', '\"obituary\"', ' ', 'on', ' ', 'Jack--one', ' ', 'of', ' ', 'those', ' ', 'showy', ' ', 'articles', ' ', 'stocked', ' ', 'with', ' ', 'random', ' ', 'technicalities', ' ', 'that', ' ', 'I', ' ', 'have', ' ', 'heard', ' ', '(I', ' ', \"won't\", ' ', 'say', ' ', 'by', ' ', 'whom)', ' ', 'compared', ' ', 'to', ' ', \"Gisburn's\", ' ', 'painting', '.', '', ' ', 'And', ' ', 'so--his', ' ', 'resolve', ' ', 'being', ' ', 'apparently', ' ', 'irrevocable--the', ' ', 'discussion', ' ', 'gradually', ' ', 'died', ' ', 'out', ',', '', ' ', 'and', ',', '', ' ', 'as', ' ', 'Mrs', '.', '', ' ', 'Thwing', ' ', 'had', ' ', 'predicted', ',', '', ' ', 'the', ' ', 'price', ' ', 'of', ' ', '\"Gisburns\"', ' ', 'went', ' ', 'up', '.', '', '\\n', '', '\\n', 'It', ' ', 'was', ' ', 'not', ' ', 'till', ' ', 'three', ' ', 'years', ' ', 'later', ' ', 'that', ',', '', ' ', 'in', ' ', 'the', ' ', 'course', ' ', 'of', ' ', 'a', ' ', 'few', ' ', \"weeks'\", ' ', 'idling', ' ', 'on', ' ', 'the', ' ', 'Riviera', ',', '', ' ', 'it', ' ', 'suddenly', ' ', 'occurred', ' ', 'to', ' ', 'me', ' ', 'to', ' ', 'wonder', ' ', 'why', ' ', 'Gisburn', ' ', 'had', ' ', 'given', ' ', 'up', ' ', 'his', ' ', 'painting', '.', '', ' ', 'On', ' ', 'reflection', ',', '', ' ', 'it', ' ', 'really', ' ', 'was', ' ', 'a', ' ', 'tempting', ' ', 'problem', '.', '', ' ', 'To', ' ', 'accuse', ' ', 'his', ' ', 'wife', ' ', 'would', ' ', 'have', ' ', 'been', ' ', 'too', ' ', 'easy--his', ' ', 'fair', ' ', 'sitters', ' ', 'had', ' ', 'been', ' ', 'denied', ' ', 'the', ' ', 'solace', ' ', 'of', ' ', 'saying', ' ', 'that', ' ', 'Mrs', '.', '', ' ', 'Gisburn', ' ', 'had', ' ', '\"dragged', ' ', 'him', ' ', 'down', '.', '\"', ' ', 'For', ' ', 'Mrs', '.', '', ' ', 'Gisburn--as', ' ', 'such--had', ' ', 'not', ' ', 'existed', ' ', 'till', ' ', 'nearly', ' ', 'a', ' ', 'year', ' ', 'after', ' ', \"Jack's\", ' ', 'resolve', ' ', 'had', ' ', 'been', ' ', 'taken', '.', '', ' ', 'It', ' ', 'might', ' ', 'be', ' ', 'that', ' ', 'he', ' ', 'had', ' ', 'married', ' ', 'her--since', ' ', 'he', ' ', 'liked', ' ', 'his', ' ', 'ease--because', ' ', 'he', ' ', \"didn't\", ' ', 'want', ' ', 'to', ' ', 'go', ' ', 'on', ' ', 'painting;', ' ', 'but', ' ', 'it', ' ', 'would', ' ', 'have', ' ', 'been', ' ', 'hard', ' ', 'to', ' ', 'prove', ' ', 'that', ' ', 'he', ' ', 'had', ' ', 'given', ' ', 'up', ' ', 'his', ' ', 'painting', ' ', 'because', ' ', 'he', ' ', 'had', ' ', 'married', ' ', 'her', '.', '', '\\n', '', '\\n', 'Of', ' ', 'course', ',', '', ' ', 'if', ' ', 'she', ' ', 'had', ' ', 'not', ' ', 'dragged', ' ', 'him', ' ', 'down', ',', '', ' ', 'she', ' ', 'had', ' ', 'equally', ',', '', ' ', 'as', ' ', 'Miss', ' ', 'Croft', ' ', 'contended', ',', '', ' ', 'failed', ' ', 'to', ' ', '\"lift', ' ', 'him', ' ', 'up\"--she', ' ', 'had', ' ', 'not', ' ', 'led', ' ', 'him', ' ', 'back', ' ', 'to', ' ', 'the', ' ', 'easel', '.', '', ' ', 'To', ' ', 'put', ' ', 'the', ' ', 'brush', ' ', 'into', ' ', 'his', ' ', 'hand', ' ', 'again--what', ' ', 'a', ' ', 'vocation', ' ', 'for', ' ', 'a', ' ', 'wife!', ' ', 'But', ' ', 'Mrs', '.', '', ' ', 'Gisburn', ' ', 'appeared', ' ', 'to', ' ', 'have', ' ', 'disdained', ' ', 'it--and', ' ', 'I', ' ', 'felt', ' ', 'it', ' ', 'might', ' ', 'be', ' ', 'interesting', ' ', 'to', ' ', 'find', ' ', 'out', ' ', 'why', '.', '', '\\n', '', '\\n', 'The', ' ', 'desultory', ' ', 'life', ' ', 'of', ' ', 'the', ' ', 'Riviera', ' ', 'lends', ' ', 'itself', ' ', 'to', ' ', 'such', ' ', 'purely', ' ', 'academic', ' ', 'speculations;', ' ', 'and', ' ', 'having', ',', '', ' ', 'on', ' ', 'my', ' ', 'way', ' ', 'to', ' ', 'Monte', ' ', 'Carlo', ',', '', ' ', 'caught', ' ', 'a', ' ', 'glimpse', ' ', 'of', ' ', \"Jack's\", ' ', 'balustraded', ' ', 'terraces', ' ', 'between', ' ', 'the', ' ', 'pines', ',', '', ' ', 'I', ' ', 'had', ' ', 'myself', ' ', 'borne', ' ', 'thither', ' ', 'the', ' ', 'next', ' ', 'day', '.', '', '\\n', '', '\\n', 'I', ' ', 'found', ' ', 'the', ' ', 'couple', ' ', 'at', ' ', 'tea', ' ', 'beneath', ' ', 'their', ' ', 'palm-trees;', ' ', 'and', ' ', 'Mrs', '.', '', ' ', \"Gisburn's\", ' ', 'welcome', ' ', 'was', ' ', 'so', ' ', 'genial', ' ', 'that', ',', '', ' ', 'in', ' ', 'the', ' ', 'ensuing', ' ', 'weeks', ',', '', ' ', 'I', ' ', 'claimed', ' ', 'it', ' ', 'frequently', '.', '', ' ', 'It', ' ', 'was', ' ', 'not', ' ', 'that', ' ', 'my', ' ', 'hostess', ' ', 'was', ' ', '\"interesting\":', ' ', 'on', ' ', 'that', ' ', 'point', ' ', 'I', ' ', 'could', ' ', 'have', ' ', 'given', ' ', 'Miss', ' ', 'Croft', ' ', 'the', ' ', 'fullest', ' ', 'reassurance', '.', '', ' ', 'It', ' ', 'was', ' ', 'just', ' ', 'because', ' ', 'she', ' ', 'was', ' ', '_not_', ' ', 'interesting--if', ' ', 'I', ' ', 'may', ' ', 'be', ' ', 'pardoned', ' ', 'the', ' ', 'bull--that', ' ', 'I', ' ', 'found', ' ', 'her', ' ', 'so', '.', '', ' ', 'For', ' ', 'Jack', ',', '', ' ', 'all', ' ', 'his', ' ', 'life', ',', '', ' ', 'had', ' ', 'been', ' ', 'surrounded', ' ', 'by', ' ', 'interesting', ' ', 'women:', ' ', 'they', ' ', 'had', ' ', 'fostered', ' ', 'his', ' ', 'art', ',', '', ' ', 'it', ' ', 'had', ' ', 'been', ' ', 'reared', ' ', 'in', ' ', 'the', ' ', 'hot-house', ' ', 'of', ' ', 'their', ' ', 'adulation', '.', '', ' ', 'And', ' ', 'it', ' ', 'was', ' ', 'therefore', ' ', 'instructive', ' ', 'to', ' ', 'note', ' ', 'what', ' ', 'effect', ' ', 'the', ' ', '\"deadening', ' ', 'atmosphere', ' ', 'of', ' ', 'mediocrity\"', ' ', '(I', ' ', 'quote', ' ', 'Miss', ' ', 'Croft)', ' ', 'was', ' ', 'having', ' ', 'on', ' ', 'him', '.', '', '\\n', '', '\\n', 'I', ' ', 'have', ' ', 'mentioned', ' ', 'that', ' ', 'Mrs', '.', '', ' ', 'Gisburn', ' ', 'was', ' ', 'rich;', ' ', 'and', ' ', 'it', ' ', 'was', ' ', 'immediately', ' ', 'perceptible', ' ', 'that', ' ', 'her', ' ', 'husband', ' ', 'was', ' ', 'extracting', ' ', 'from', ' ', 'this', ' ', 'circumstance', ' ', 'a', ' ', 'delicate', ' ', 'but', ' ', 'substantial', ' ', 'satisfaction', '.', '', ' ', 'It', ' ', 'is', ',', '', ' ', 'as', ' ', 'a', ' ', 'rule', ',', '', ' ', 'the', ' ', 'people', ' ', 'who', ' ', 'scorn', ' ', 'money', ' ', 'who', ' ', 'get', ' ', 'most', ' ', 'out', ' ', 'of', ' ', 'it;', ' ', 'and', ' ', \"Jack's\", ' ', 'elegant', ' ', 'disdain', ' ', 'of', ' ', 'his', ' ', \"wife's\", ' ', 'big', ' ', 'balance', ' ', 'enabled', ' ', 'him', ',', '', ' ', 'with', ' ', 'an', ' ', 'appearance', ' ', 'of', ' ', 'perfect', ' ', 'good-breeding', ',', '', ' ', 'to', ' ', 'transmute', ' ', 'it', ' ', 'into', ' ', 'objects', ' ', 'of', ' ', 'art', ' ', 'and', ' ', 'luxury', '.', '', ' ', 'To', ' ', 'the', ' ', 'latter', ',', '', ' ', 'I', ' ', 'must', ' ', 'add', ',', '', ' ', 'he', ' ', 'remained', ' ', 'relatively', ' ', 'indifferent;', ' ', 'but', ' ', 'he', ' ', 'was', ' ', 'buying', ' ', 'Renaissance', ' ', 'bronzes', ' ', 'and', ' ', 'eighteenth-century', ' ', 'pictures', ' ', 'with', ' ', 'a', ' ', 'discrimination', ' ', 'that', ' ', 'bespoke', ' ', 'the', ' ', 'amplest', ' ', 'resources', '.', '', '\\n', '', '\\n', '\"Money\\'s', ' ', 'only', ' ', 'excuse', ' ', 'is', ' ', 'to', ' ', 'put', ' ', 'beauty', ' ', 'into', ' ', 'circulation', ',', '\"', ' ', 'was', ' ', 'one', ' ', 'of', ' ', 'the', ' ', 'axioms', ' ', 'he', ' ', 'laid', ' ', 'down', ' ', 'across', ' ', 'the', ' ', 'Sevres', ' ', 'and', ' ', 'silver', ' ', 'of', ' ', 'an', ' ', 'exquisitely', ' ', 'appointed', ' ', 'luncheon-table', ',', '', ' ', 'when', ',', '', ' ', 'on', ' ', 'a', ' ', 'later', ' ', 'day', ',', '', ' ', 'I', ' ', 'had', ' ', 'again', ' ', 'run', ' ', 'over', ' ', 'from', ' ', 'Monte', ' ', 'Carlo;', ' ', 'and', ' ', 'Mrs', '.', '', ' ', 'Gisburn', ',', '', ' ', 'beaming', ' ', 'on', ' ', 'him', ',', '', ' ', 'added', ' ', 'for', ' ', 'my', ' ', 'enlightenment:', ' ', '\"Jack', ' ', 'is', ' ', 'so', ' ', 'morbidly', ' ', 'sensitive', ' ', 'to', ' ', 'every', ' ', 'form', ' ', 'of', ' ', 'beauty', '.', '\"', '\\n', '', '\\n', 'Poor', ' ', 'Jack!', ' ', 'It', ' ', 'had', ' ', 'always', ' ', 'been', ' ', 'his', ' ', 'fate', ' ', 'to', ' ', 'have', ' ', 'women', ' ', 'say', ' ', 'such', ' ', 'things', ' ', 'of', ' ', 'him:', ' ', 'the', ' ', 'fact', ' ', 'should', ' ', 'be', ' ', 'set', ' ', 'down', ' ', 'in', ' ', 'extenuation', '.', '', ' ', 'What', ' ', 'struck', ' ', 'me', ' ', 'now', ' ', 'was', ' ', 'that', ',', '', ' ', 'for', ' ', 'the', ' ', 'first', ' ', 'time', ',', '', ' ', 'he', ' ', 'resented', ' ', 'the', ' ', 'tone', '.', '', ' ', 'I', ' ', 'had', ' ', 'seen', ' ', 'him', ',', '', ' ', 'so', ' ', 'often', ',', '', ' ', 'basking', ' ', 'under', ' ', 'similar', ' ', 'tributes--was', ' ', 'it', ' ', 'the', ' ', 'conjugal', ' ', 'note', ' ', 'that', ' ', 'robbed', ' ', 'them', ' ', 'of', ' ', 'their', ' ', 'savour?', ' ', 'No--for', ',', '', ' ', 'oddly', ' ', 'enough', ',', '', ' ', 'it', ' ', 'became', ' ', 'apparent', ' ', 'that', ' ', 'he', ' ', 'was', ' ', 'fond', ' ', 'of', ' ', 'Mrs', '.', '', ' ', 'Gisburn--fond', ' ', 'enough', ' ', 'not', ' ', 'to', ' ', 'see', ' ', 'her', ' ', 'absurdity', '.', '', ' ', 'It', ' ', 'was', ' ', 'his', ' ', 'own', ' ', 'absurdity', ' ', 'he', ' ', 'seemed', ' ', 'to', ' ', 'be', ' ', 'wincing', ' ', 'under--his', ' ', 'own', ' ', 'attitude', ' ', 'as', ' ', 'an', ' ', 'object', ' ', 'for', ' ', 'garlands', ' ', 'and', ' ', 'incense', '.', '', '\\n', '', '\\n', '\"My', ' ', 'dear', ',', '', ' ', 'since', ' ', \"I've\", ' ', 'chucked', ' ', 'painting', ' ', 'people', ' ', \"don't\", ' ', 'say', ' ', 'that', ' ', 'stuff', ' ', 'about', ' ', 'me--they', ' ', 'say', ' ', 'it', ' ', 'about', ' ', 'Victor', ' ', 'Grindle', ',', '\"', ' ', 'was', ' ', 'his', ' ', 'only', ' ', 'protest', ',', '', ' ', 'as', ' ', 'he', ' ', 'rose', ' ', 'from', ' ', 'the', ' ', 'table', ' ', 'and', ' ', 'strolled', ' ', 'out', ' ', 'onto', ' ', 'the', ' ', 'sunlit', ' ', 'terrace', '.', '', '\\n', '', '\\n', 'I', ' ', 'glanced', ' ', 'after', ' ', 'him', ',', '', ' ', 'struck', ' ', 'by', ' ', 'his', ' ', 'last', ' ', 'word', '.', '', ' ', 'Victor', ' ', 'Grindle', ' ', 'was', ',', '', ' ', 'in', ' ', 'fact', ',', '', ' ', 'becoming', ' ', 'the', ' ', 'man', ' ', 'of', ' ', 'the', ' ', 'moment--as', ' ', 'Jack', ' ', 'himself', ',', '', ' ', 'one', ' ', 'might', ' ', 'put', ' ', 'it', ',', '', ' ', 'had', ' ', 'been', ' ', 'the', ' ', 'man', ' ', 'of', ' ', 'the', ' ', 'hour', '.', '', ' ', 'The', ' ', 'younger', ' ', 'artist', ' ', 'was', ' ', 'said', ' ', 'to', ' ', 'have', ' ', 'formed', ' ', 'himself', ' ', 'at', ' ', 'my', ' ', \"friend's\", ' ', 'feet', ',', '', ' ', 'and', ' ', 'I', ' ', 'wondered', ' ', 'if', ' ', 'a', ' ', 'tinge', ' ', 'of', ' ', 'jealousy', ' ', 'underlay', ' ', 'the', ' ', \"latter's\", ' ', 'mysterious', ' ', 'abdication', '.', '', ' ', 'But', ' ', 'no--for', ' ', 'it', ' ', 'was', ' ', 'not', ' ', 'till', ' ', 'after', ' ', 'that', ' ', 'event', ' ', 'that', ' ', 'the', ' ', '_rose', ' ', 'Dubarry_', ' ', 'drawing-rooms', ' ', 'had', ' ', 'begun', ' ', 'to', ' ', 'display', ' ', 'their', ' ', '\"Grindles', '.', '\"', '\\n', '', '\\n', 'I', ' ', 'turned', ' ', 'to', ' ', 'Mrs', '.', '', ' ', 'Gisburn', ',', '', ' ', 'who', ' ', 'had', ' ', 'lingered', ' ', 'to', ' ', 'give', ' ', 'a', ' ', 'lump', ' ', 'of', ' ', 'sugar', ' ', 'to', ' ', 'her', ' ', 'spaniel', ' ', 'in', ' ', 'the', ' ', 'dining-room', '.', '', '\\n', '', '\\n', '\"Why', ' ', '_has_', ' ', 'he', ' ', 'chucked', ' ', 'painting?\"', ' ', 'I', ' ', 'asked', ' ', 'abruptly', '.', '', '\\n', '', '\\n', 'She', ' ', 'raised', ' ', 'her', ' ', 'eyebrows', ' ', 'with', ' ', 'a', ' ', 'hint', ' ', 'of', ' ', 'good-humoured', ' ', 'surprise', '.', '', '\\n', '', '\\n', '\"Oh', ',', '', ' ', 'he', ' ', \"doesn't\", ' ', '_have_', ' ', 'to', ' ', 'now', ',', '', ' ', 'you', ' ', 'know;', ' ', 'and', ' ', 'I', ' ', 'want', ' ', 'him', ' ', 'to', ' ', 'enjoy', ' ', 'himself', ',', '\"', ' ', 'she', ' ', 'said', ' ', 'quite', ' ', 'simply', '.', '', '\\n', '', '\\n', 'I', ' ', 'looked', ' ', 'about', ' ', 'the', ' ', 'spacious', ' ', 'white-panelled', ' ', 'room', ',', '', ' ', 'with', ' ', 'its', ' ', '_famille-verte_', ' ', 'vases', ' ', 'repeating', ' ', 'the', ' ', 'tones', ' ', 'of', ' ', 'the', ' ', 'pale', ' ', 'damask', ' ', 'curtains', ',', '', ' ', 'and', ' ', 'its', ' ', 'eighteenth-century', ' ', 'pastels', ' ', 'in', ' ', 'delicate', ' ', 'faded', ' ', 'frames', '.', '', '\\n', '', '\\n', '\"Has', ' ', 'he', ' ', 'chucked', ' ', 'his', ' ', 'pictures', ' ', 'too?', ' ', 'I', ' ', \"haven't\", ' ', 'seen', ' ', 'a', ' ', 'single', ' ', 'one', ' ', 'in', ' ', 'the', ' ', 'house', '.', '\"', '\\n', '', '\\n', 'A', ' ', 'slight', ' ', 'shade', ' ', 'of', ' ', 'constraint', ' ', 'crossed', ' ', 'Mrs', '.', '', ' ', \"Gisburn's\", ' ', 'open', ' ', 'countenance', '.', '', ' ', '\"It\\'s', ' ', 'his', ' ', 'ridiculous', ' ', 'modesty', ',', '', ' ', 'you', ' ', 'know', '.', '', ' ', 'He', ' ', 'says', ' ', \"they're\", ' ', 'not', ' ', 'fit', ' ', 'to', ' ', 'have', ' ', 'about;', ' ', \"he's\", ' ', 'sent', ' ', 'them', ' ', 'all', ' ', 'away', ' ', 'except', ' ', 'one--my', ' ', 'portrait--and', ' ', 'that', ' ', 'I', ' ', 'have', ' ', 'to', ' ', 'keep', ' ', 'upstairs', '.', '\"', '\\n', '', '\\n', 'His', ' ', 'ridiculous', ' ', \"modesty--Jack's\", ' ', 'modesty', ' ', 'about', ' ', 'his', ' ', 'pictures?', ' ', 'My', ' ', 'curiosity', ' ', 'was', ' ', 'growing', ' ', 'like', ' ', 'the', ' ', 'bean-stalk', '.', '', ' ', 'I', ' ', 'said', ' ', 'persuasively', ' ', 'to', ' ', 'my', ' ', 'hostess:', ' ', '\"I', ' ', 'must', ' ', 'really', ' ', 'see', ' ', 'your', ' ', 'portrait', ',', '', ' ', 'you', ' ', 'know', '.', '\"', '\\n', '', '\\n', 'She', ' ', 'glanced', ' ', 'out', ' ', 'almost', ' ', 'timorously', ' ', 'at', ' ', 'the', ' ', 'terrace', ' ', 'where', ' ', 'her', ' ', 'husband', ',', '', ' ', 'lounging', ' ', 'in', ' ', 'a', ' ', 'hooded', ' ', 'chair', ',', '', ' ', 'had', ' ', 'lit', ' ', 'a', ' ', 'cigar', ' ', 'and', ' ', 'drawn', ' ', 'the', ' ', 'Russian', ' ', \"deerhound's\", ' ', 'head', ' ', 'between', ' ', 'his', ' ', 'knees', '.', '', '\\n', '', '\\n', '\"Well', ',', '', ' ', 'come', ' ', 'while', ' ', \"he's\", ' ', 'not', ' ', 'looking', ',', '\"', ' ', 'she', ' ', 'said', ',', '', ' ', 'with', ' ', 'a', ' ', 'laugh', ' ', 'that', ' ', 'tried', ' ', 'to', ' ', 'hide', ' ', 'her', ' ', 'nervousness;', ' ', 'and', ' ', 'I', ' ', 'followed', ' ', 'her', ' ', 'between', ' ', 'the', ' ', 'marble', ' ', 'Emperors', ' ', 'of', ' ', 'the', ' ', 'hall', ',', '', ' ', 'and', ' ', 'up', ' ', 'the', ' ', 'wide', ' ', 'stairs', ' ', 'with', ' ', 'terra-cotta', ' ', 'nymphs', ' ', 'poised', ' ', 'among', ' ', 'flowers', ' ', 'at', ' ', 'each', ' ', 'landing', '.', '', '\\n', '', '\\n', 'In', ' ', 'the', ' ', 'dimmest', ' ', 'corner', ' ', 'of', ' ', 'her', ' ', 'boudoir', ',', '', ' ', 'amid', ' ', 'a', ' ', 'profusion', ' ', 'of', ' ', 'delicate', ' ', 'and', ' ', 'distinguished', ' ', 'objects', ',', '', ' ', 'hung', ' ', 'one', ' ', 'of', ' ', 'the', ' ', 'familiar', ' ', 'oval', ' ', 'canvases', ',', '', ' ', 'in', ' ', 'the', ' ', 'inevitable', ' ', 'garlanded', ' ', 'frame', '.', '', ' ', 'The', ' ', 'mere', ' ', 'outline', ' ', 'of', ' ', 'the', ' ', 'frame', ' ', 'called', ' ', 'up', ' ', 'all', ' ', \"Gisburn's\", ' ', 'past!', '\\n', '', '\\n', 'Mrs', '.', '', ' ', 'Gisburn', ' ', 'drew', ' ', 'back', ' ', 'the', ' ', 'window-curtains', ',', '', ' ', 'moved', ' ', 'aside', ' ', 'a', ' ', '_jardiniere_', ' ', 'full', ' ', 'of', ' ', 'pink', ' ', 'azaleas', ',', '', ' ', 'pushed', ' ', 'an', ' ', 'arm-chair', ' ', 'away', ',', '', ' ', 'and', ' ', 'said:', ' ', '\"If', ' ', 'you', ' ', 'stand', ' ', 'here', ' ', 'you', ' ', 'can', ' ', 'just', ' ', 'manage', ' ', 'to', ' ', 'see', ' ', 'it', '.', '', ' ', 'I', ' ', 'had', ' ', 'it', ' ', 'over', ' ', 'the', ' ', 'mantel-piece', ',', '', ' ', 'but', ' ', 'he', ' ', \"wouldn't\", ' ', 'let', ' ', 'it', ' ', 'stay', '.', '\"', '\\n', '', '\\n', 'Yes--I', ' ', 'could', ' ', 'just', ' ', 'manage', ' ', 'to', ' ', 'see', ' ', 'it--the', ' ', 'first', ' ', 'portrait', ' ', 'of', ' ', \"Jack's\", ' ', 'I', ' ', 'had', ' ', 'ever', ' ', 'had', ' ', 'to', ' ', 'strain', ' ', 'my', ' ', 'eyes', ' ', 'over!', ' ', 'Usually', ' ', 'they', ' ', 'had', ' ', 'the', ' ', 'place', ' ', 'of', ' ', 'honour--say', ' ', 'the', ' ', 'central', ' ', 'panel', ' ', 'in', ' ', 'a', ' ', 'pale', ' ', 'yellow', ' ', 'or', ' ', '_rose', ' ', 'Dubarry_', ' ', 'drawing-room', ',', '', ' ', 'or', ' ', 'a', ' ', 'monumental', ' ', 'easel', ' ', 'placed', ' ', 'so', ' ', 'that', ' ', 'it', ' ', 'took', ' ', 'the', ' ', 'light', ' ', 'through', ' ', 'curtains', ' ', 'of', ' ', 'old', ' ', 'Venetian', ' ', 'point', '.', '', ' ', 'The', ' ', 'more', ' ', 'modest', ' ', 'place', ' ', 'became', ' ', 'the', ' ', 'picture', ' ', 'better;', ' ', 'yet', ',', '', ' ', 'as', ' ', 'my', ' ', 'eyes', ' ', 'grew', ' ', 'accustomed', ' ', 'to', ' ', 'the', ' ', 'half-light', ',', '', ' ', 'all', ' ', 'the', ' ', 'characteristic', ' ', 'qualities', ' ', 'came', ' ', 'out--all', ' ', 'the', ' ', 'hesitations', ' ', 'disguised', ' ', 'as', ' ', 'audacities', ',', '', ' ', 'the', ' ', 'tricks', ' ', 'of', ' ', 'prestidigitation', ' ', 'by', ' ', 'which', ',', '', ' ', 'with', ' ', 'such', ' ', 'consummate', ' ', 'skill', ',', '', ' ', 'he', ' ', 'managed', ' ', 'to', ' ', 'divert', ' ', 'attention', ' ', 'from', ' ', 'the', ' ', 'real', ' ', 'business', ' ', 'of', ' ', 'the', ' ', 'picture', ' ', 'to', ' ', 'some', ' ', 'pretty', ' ', 'irrelevance', ' ', 'of', ' ', 'detail', '.', '', ' ', 'Mrs', '.', '', ' ', 'Gisburn', ',', '', ' ', 'presenting', ' ', 'a', ' ', 'neutral', ' ', 'surface', ' ', 'to', ' ', 'work', ' ', 'on--forming', ',', '', ' ', 'as', ' ', 'it', ' ', 'were', ',', '', ' ', 'so', ' ', 'inevitably', ' ', 'the', ' ', 'background', ' ', 'of', ' ', 'her', ' ', 'own', ' ', 'picture--had', ' ', 'lent', ' ', 'herself', ' ', 'in', ' ', 'an', ' ', 'unusual', ' ', 'degree', ' ', 'to', ' ', 'the', ' ', 'display', ' ', 'of', ' ', 'this', ' ', 'false', ' ', 'virtuosity', '.', '', ' ', 'The', ' ', 'picture', ' ', 'was', ' ', 'one', ' ', 'of', ' ', \"Jack's\", ' ', '\"strongest', ',', '\"', ' ', 'as', ' ', 'his', ' ', 'admirers', ' ', 'would', ' ', 'have', ' ', 'put', ' ', 'it--it', ' ', 'represented', ',', '', ' ', 'on', ' ', 'his', ' ', 'part', ',', '', ' ', 'a', ' ', 'swelling', ' ', 'of', ' ', 'muscles', ',', '', ' ', 'a', ' ', 'congesting', ' ', 'of', ' ', 'veins', ',', '', ' ', 'a', ' ', 'balancing', ',', '', ' ', 'straddling', ' ', 'and', ' ', 'straining', ',', '', ' ', 'that', ' ', 'reminded', ' ', 'one', ' ', 'of', ' ', 'the', ' ', \"circus-clown's\", ' ', 'ironic', ' ', 'efforts', ' ', 'to', ' ', 'lift', ' ', 'a', ' ', 'feather', '.', '', ' ', 'It', ' ', 'met', ',', '', ' ', 'in', ' ', 'short', ',', '', ' ', 'at', ' ', 'every', ' ', 'point', ' ', 'the', ' ', 'demand', ' ', 'of', ' ', 'lovely', ' ', 'woman', ' ', 'to', ' ', 'be', ' ', 'painted', ' ', '\"strongly\"', ' ', 'because', ' ', 'she', ' ', 'was', ' ', 'tired', ' ', 'of', ' ', 'being', ' ', 'painted', ' ', '\"sweetly\"--and', ' ', 'yet', ' ', 'not', ' ', 'to', ' ', 'lose', ' ', 'an', ' ', 'atom', ' ', 'of', ' ', 'the', ' ', 'sweetness', '.', '', '\\n', '', '\\n', '\"It\\'s', ' ', 'the', ' ', 'last', ' ', 'he', ' ', 'painted', ',', '', ' ', 'you', ' ', 'know', ',', '\"', ' ', 'Mrs', '.', '', ' ', 'Gisburn', ' ', 'said', ' ', 'with', ' ', 'pardonable', ' ', 'pride', '.', '', ' ', '\"The', ' ', 'last', ' ', 'but', ' ', 'one', ',', '\"', ' ', 'she', ' ', 'corrected', ' ', 'herself--\"but', ' ', 'the', ' ', 'other', ' ', \"doesn't\", ' ', 'count', ',', '', ' ', 'because', ' ', 'he', ' ', 'destroyed', ' ', 'it', '.', '\"', '\\n', '', '\\n', '\"Destroyed', ' ', 'it?\"', ' ', 'I', ' ', 'was', ' ', 'about', ' ', 'to', ' ', 'follow', ' ', 'up', ' ', 'this', ' ', 'clue', ' ', 'when', ' ', 'I', ' ', 'heard', ' ', 'a', ' ', 'footstep', ' ', 'and', ' ', 'saw', ' ', 'Jack', ' ', 'himself', ' ', 'on', ' ', 'the', ' ', 'threshold', '.', '', '\\n', '', '\\n', 'As', ' ', 'he', ' ', 'stood', ' ', 'there', ',', '', ' ', 'his', ' ', 'hands', ' ', 'in', ' ', 'the', ' ', 'pockets', ' ', 'of', ' ', 'his', ' ', 'velveteen', ' ', 'coat', ',', '', ' ', 'the', ' ', 'thin', ' ', 'brown', ' ', 'waves', ' ', 'of', ' ', 'hair', ' ', 'pushed', ' ', 'back', ' ', 'from', ' ', 'his', ' ', 'white', ' ', 'forehead', ',', '', ' ', 'his', ' ', 'lean', ' ', 'sunburnt', ' ', 'cheeks', ' ', 'furrowed', ' ', 'by', ' ', 'a', ' ', 'smile', ' ', 'that', ' ', 'lifted', ' ', 'the', ' ', 'tips', ' ', 'of', ' ', 'a', ' ', 'self-confident', ' ', 'moustache', ',', '', ' ', 'I', ' ', 'felt', ' ', 'to', ' ', 'what', ' ', 'a', ' ', 'degree', ' ', 'he', ' ', 'had', ' ', 'the', ' ', 'same', ' ', 'quality', ' ', 'as', ' ', 'his', ' ', 'pictures--the', ' ', 'quality', ' ', 'of', ' ', 'looking', ' ', 'cleverer', ' ', 'than', ' ', 'he', ' ', 'was', '.', '', '\\n', '', '\\n', 'His', ' ', 'wife', ' ', 'glanced', ' ', 'at', ' ', 'him', ' ', 'deprecatingly', ',', '', ' ', 'but', ' ', 'his', ' ', 'eyes', ' ', 'travelled', ' ', 'past', ' ', 'her', ' ', 'to', ' ', 'the', ' ', 'portrait', '.', '', '\\n', '', '\\n', '\"Mr', '.', '', ' ', 'Rickham', ' ', 'wanted', ' ', 'to', ' ', 'see', ' ', 'it', ',', '\"', ' ', 'she', ' ', 'began', ',', '', ' ', 'as', ' ', 'if', ' ', 'excusing', ' ', 'herself', '.', '', ' ', 'He', ' ', 'shrugged', ' ', 'his', ' ', 'shoulders', ',', '', ' ', 'still', ' ', 'smiling', '.', '', '\\n', '', '\\n', '\"Oh', ',', '', ' ', 'Rickham', ' ', 'found', ' ', 'me', ' ', 'out', ' ', 'long', ' ', 'ago', ',', '\"', ' ', 'he', ' ', 'said', ' ', 'lightly;', ' ', 'then', ',', '', ' ', 'passing', ' ', 'his', ' ', 'arm', ' ', 'through', ' ', 'mine:', ' ', '\"Come', ' ', 'and', ' ', 'see', ' ', 'the', ' ', 'rest', ' ', 'of', ' ', 'the', ' ', 'house', '.', '\"', '\\n', '', '\\n', 'He', ' ', 'showed', ' ', 'it', ' ', 'to', ' ', 'me', ' ', 'with', ' ', 'a', ' ', 'kind', ' ', 'of', ' ', 'naive', ' ', 'suburban', ' ', 'pride:', ' ', 'the', ' ', 'bath-rooms', ',', '', ' ', 'the', ' ', 'speaking-tubes', ',', '', ' ', 'the', ' ', 'dress-closets', ',', '', ' ', 'the', ' ', 'trouser-presses--all', ' ', 'the', ' ', 'complex', ' ', 'simplifications', ' ', 'of', ' ', 'the', ' ', \"millionaire's\", ' ', 'domestic', ' ', 'economy', '.', '', ' ', 'And', ' ', 'whenever', ' ', 'my', ' ', 'wonder', ' ', 'paid', ' ', 'the', ' ', 'expected', ' ', 'tribute', ' ', 'he', ' ', 'said', ',', '', ' ', 'throwing', ' ', 'out', ' ', 'his', ' ', 'chest', ' ', 'a', ' ', 'little:', ' ', '\"Yes', ',', '', ' ', 'I', ' ', 'really', ' ', \"don't\", ' ', 'see', ' ', 'how', ' ', 'people', ' ', 'manage', ' ', 'to', ' ', 'live', ' ', 'without', ' ', 'that', '.', '\"', '\\n', '', '\\n', 'Well--it', ' ', 'was', ' ', 'just', ' ', 'the', ' ', 'end', ' ', 'one', ' ', 'might', ' ', 'have', ' ', 'foreseen', ' ', 'for', ' ', 'him', '.', '', ' ', 'Only', ' ', 'he', ' ', 'was', ',', '', ' ', 'through', ' ', 'it', ' ', 'all', ' ', 'and', ' ', 'in', ' ', 'spite', ' ', 'of', ' ', 'it', ' ', 'all--as', ' ', 'he', ' ', 'had', ' ', 'been', ' ', 'through', ',', '', ' ', 'and', ' ', 'in', ' ', 'spite', ' ', 'of', ',', '', ' ', 'his', ' ', 'pictures--so', ' ', 'handsome', ',', '', ' ', 'so', ' ', 'charming', ',', '', ' ', 'so', ' ', 'disarming', ',', '', ' ', 'that', ' ', 'one', ' ', 'longed', ' ', 'to', ' ', 'cry', ' ', 'out:', ' ', '\"Be', ' ', 'dissatisfied', ' ', 'with', ' ', 'your', ' ', 'leisure!\"', ' ', 'as', ' ', 'once', ' ', 'one', ' ', 'had', ' ', 'longed', ' ', 'to', ' ', 'say:', ' ', '\"Be', ' ', 'dissatisfied', ' ', 'with', ' ', 'your', ' ', 'work!\"', '\\n', '', '\\n', 'But', ',', '', ' ', 'with', ' ', 'the', ' ', 'cry', ' ', 'on', ' ', 'my', ' ', 'lips', ',', '', ' ', 'my', ' ', 'diagnosis', ' ', 'suffered', ' ', 'an', ' ', 'unexpected', ' ', 'check', '.', '', '\\n', '', '\\n', '\"This', ' ', 'is', ' ', 'my', ' ', 'own', ' ', 'lair', ',', '\"', ' ', 'he', ' ', 'said', ',', '', ' ', 'leading', ' ', 'me', ' ', 'into', ' ', 'a', ' ', 'dark', ' ', 'plain', ' ', 'room', ' ', 'at', ' ', 'the', ' ', 'end', ' ', 'of', ' ', 'the', ' ', 'florid', ' ', 'vista', '.', '', ' ', 'It', ' ', 'was', ' ', 'square', ' ', 'and', ' ', 'brown', ' ', 'and', ' ', 'leathery:', ' ', 'no', ' ', '\"effects\";', ' ', 'no', ' ', 'bric-a-brac', ',', '', ' ', 'none', ' ', 'of', ' ', 'the', ' ', 'air', ' ', 'of', ' ', 'posing', ' ', 'for', ' ', 'reproduction', ' ', 'in', ' ', 'a', ' ', 'picture', ' ', 'weekly--above', ' ', 'all', ',', '', ' ', 'no', ' ', 'least', ' ', 'sign', ' ', 'of', ' ', 'ever', ' ', 'having', ' ', 'been', ' ', 'used', ' ', 'as', ' ', 'a', ' ', 'studio', '.', '', '\\n', '', '\\n', 'The', ' ', 'fact', ' ', 'brought', ' ', 'home', ' ', 'to', ' ', 'me', ' ', 'the', ' ', 'absolute', ' ', 'finality', ' ', 'of', ' ', \"Jack's\", ' ', 'break', ' ', 'with', ' ', 'his', ' ', 'old', ' ', 'life', '.', '', '\\n', '', '\\n', '\"Don\\'t', ' ', 'you', ' ', 'ever', ' ', 'dabble', ' ', 'with', ' ', 'paint', ' ', 'any', ' ', 'more?\"', ' ', 'I', ' ', 'asked', ',', '', ' ', 'still', ' ', 'looking', ' ', 'about', ' ', 'for', ' ', 'a', ' ', 'trace', ' ', 'of', ' ', 'such', ' ', 'activity', '.', '', '\\n', '', '\\n', '\"Never', ',', '\"', ' ', 'he', ' ', 'said', ' ', 'briefly', '.', '', '\\n', '', '\\n', '\"Or', ' ', 'water-colour--or', ' ', 'etching?\"', '\\n', '', '\\n', 'His', ' ', 'confident', ' ', 'eyes', ' ', 'grew', ' ', 'dim', ',', '', ' ', 'and', ' ', 'his', ' ', 'cheeks', ' ', 'paled', ' ', 'a', ' ', 'little', ' ', 'under', ' ', 'their', ' ', 'handsome', ' ', 'sunburn', '.', '', '\\n', '', '\\n', '\"Never', ' ', 'think', ' ', 'of', ' ', 'it', ',', '', ' ', 'my', ' ', 'dear', ' ', 'fellow--any', ' ', 'more', ' ', 'than', ' ', 'if', ' ', \"I'd\", ' ', 'never', ' ', 'touched', ' ', 'a', ' ', 'brush', '.', '\"', '\\n', '', '\\n', 'And', ' ', 'his', ' ', 'tone', ' ', 'told', ' ', 'me', ' ', 'in', ' ', 'a', ' ', 'flash', ' ', 'that', ' ', 'he', ' ', 'never', ' ', 'thought', ' ', 'of', ' ', 'anything', ' ', 'else', '.', '', '\\n', '', '\\n', 'I', ' ', 'moved', ' ', 'away', ',', '', ' ', 'instinctively', ' ', 'embarrassed', ' ', 'by', ' ', 'my', ' ', 'unexpected', ' ', 'discovery;', ' ', 'and', ' ', 'as', ' ', 'I', ' ', 'turned', ',', '', ' ', 'my', ' ', 'eye', ' ', 'fell', ' ', 'on', ' ', 'a', ' ', 'small', ' ', 'picture', ' ', 'above', ' ', 'the', ' ', 'mantel-piece--the', ' ', 'only', ' ', 'object', ' ', 'breaking', ' ', 'the', ' ', 'plain', ' ', 'oak', ' ', 'panelling', ' ', 'of', ' ', 'the', ' ', 'room', '.', '', '\\n', '', '\\n', '\"Oh', ',', '', ' ', 'by', ' ', 'Jove!\"', ' ', 'I', ' ', 'said', '.', '', '\\n', '', '\\n', 'It', ' ', 'was', ' ', 'a', ' ', 'sketch', ' ', 'of', ' ', 'a', ' ', 'donkey--an', ' ', 'old', ' ', 'tired', ' ', 'donkey', ',', '', ' ', 'standing', ' ', 'in', ' ', 'the', ' ', 'rain', ' ', 'under', ' ', 'a', ' ', 'wall', '.', '', '\\n', '', '\\n', '\"By', ' ', 'Jove--a', ' ', 'Stroud!\"', ' ', 'I', ' ', 'cried', '.', '', '\\n', '', '\\n', 'He', ' ', 'was', ' ', 'silent;', ' ', 'but', ' ', 'I', ' ', 'felt', ' ', 'him', ' ', 'close', ' ', 'behind', ' ', 'me', ',', '', ' ', 'breathing', ' ', 'a', ' ', 'little', ' ', 'quickly', '.', '', '\\n', '', '\\n', '\"What', ' ', 'a', ' ', 'wonder!', ' ', 'Made', ' ', 'with', ' ', 'a', ' ', 'dozen', ' ', 'lines--but', ' ', 'on', ' ', 'everlasting', ' ', 'foundations', '.', '', ' ', 'You', ' ', 'lucky', ' ', 'chap', ',', '', ' ', 'where', ' ', 'did', ' ', 'you', ' ', 'get', ' ', 'it?\"', '\\n', '', '\\n', 'He', ' ', 'answered', ' ', 'slowly:', ' ', '\"Mrs', '.', '', ' ', 'Stroud', ' ', 'gave', ' ', 'it', ' ', 'to', ' ', 'me', '.', '\"', '\\n', '', '\\n', '\"Ah--I', ' ', \"didn't\", ' ', 'know', ' ', 'you', ' ', 'even', ' ', 'knew', ' ', 'the', ' ', 'Strouds', '.', '', ' ', 'He', ' ', 'was', ' ', 'such', ' ', 'an', ' ', 'inflexible', ' ', 'hermit', '.', '\"', '\\n', '', '\\n', '\"I', ' ', \"didn't--till\", ' ', 'after', '.', '', ' ', '', '.', '', ' ', '', '.', '', ' ', '', '.', '', ' ', 'She', ' ', 'sent', ' ', 'for', ' ', 'me', ' ', 'to', ' ', 'paint', ' ', 'him', ' ', 'when', ' ', 'he', ' ', 'was', ' ', 'dead', '.', '\"', '\\n', '', '\\n', '\"When', ' ', 'he', ' ', 'was', ' ', 'dead?', ' ', 'You?\"', '\\n', '', '\\n', 'I', ' ', 'must', ' ', 'have', ' ', 'let', ' ', 'a', ' ', 'little', ' ', 'too', ' ', 'much', ' ', 'amazement', ' ', 'escape', ' ', 'through', ' ', 'my', ' ', 'surprise', ',', '', ' ', 'for', ' ', 'he', ' ', 'answered', ' ', 'with', ' ', 'a', ' ', 'deprecating', ' ', 'laugh:', ' ', '\"Yes--she\\'s', ' ', 'an', ' ', 'awful', ' ', 'simpleton', ',', '', ' ', 'you', ' ', 'know', ',', '', ' ', 'Mrs', '.', '', ' ', 'Stroud', '.', '', ' ', 'Her', ' ', 'only', ' ', 'idea', ' ', 'was', ' ', 'to', ' ', 'have', ' ', 'him', ' ', 'done', ' ', 'by', ' ', 'a', ' ', 'fashionable', ' ', 'painter--ah', ',', '', ' ', 'poor', ' ', 'Stroud!', ' ', 'She', ' ', 'thought', ' ', 'it', ' ', 'the', ' ', 'surest', ' ', 'way', ' ', 'of', ' ', 'proclaiming', ' ', 'his', ' ', 'greatness--of', ' ', 'forcing', ' ', 'it', ' ', 'on', ' ', 'a', ' ', 'purblind', ' ', 'public', '.', '', ' ', 'And', ' ', 'at', ' ', 'the', ' ', 'moment', ' ', 'I', ' ', 'was', ' ', '_the_', ' ', 'fashionable', ' ', 'painter', '.', '\"', '\\n', '', '\\n', '\"Ah', ',', '', ' ', 'poor', ' ', 'Stroud--as', ' ', 'you', ' ', 'say', '.', '', ' ', 'Was', ' ', '_that_', ' ', 'his', ' ', 'history?\"', '\\n', '', '\\n', '\"That', ' ', 'was', ' ', 'his', ' ', 'history', '.', '', ' ', 'She', ' ', 'believed', ' ', 'in', ' ', 'him', ',', '', ' ', 'gloried', ' ', 'in', ' ', 'him--or', ' ', 'thought', ' ', 'she', ' ', 'did', '.', '', ' ', 'But', ' ', 'she', ' ', \"couldn't\", ' ', 'bear', ' ', 'not', ' ', 'to', ' ', 'have', ' ', 'all', ' ', 'the', ' ', 'drawing-rooms', ' ', 'with', ' ', 'her', '.', '', ' ', 'She', ' ', \"couldn't\", ' ', 'bear', ' ', 'the', ' ', 'fact', ' ', 'that', ',', '', ' ', 'on', ' ', 'varnishing', ' ', 'days', ',', '', ' ', 'one', ' ', 'could', ' ', 'always', ' ', 'get', ' ', 'near', ' ', 'enough', ' ', 'to', ' ', 'see', ' ', 'his', ' ', 'pictures', '.', '', ' ', 'Poor', ' ', 'woman!', ' ', \"She's\", ' ', 'just', ' ', 'a', ' ', 'fragment', ' ', 'groping', ' ', 'for', ' ', 'other', ' ', 'fragments', '.', '', ' ', 'Stroud', ' ', 'is', ' ', 'the', ' ', 'only', ' ', 'whole', ' ', 'I', ' ', 'ever', ' ', 'knew', '.', '\"', '\\n', '', '\\n', '\"You', ' ', 'ever', ' ', 'knew?', ' ', 'But', ' ', 'you', ' ', 'just', ' ', 'said--\"', '\\n', '', '\\n', 'Gisburn', ' ', 'had', ' ', 'a', ' ', 'curious', ' ', 'smile', ' ', 'in', ' ', 'his', ' ', 'eyes', '.', '', '\\n', '', '\\n', '\"Oh', ',', '', ' ', 'I', ' ', 'knew', ' ', 'him', ',', '', ' ', 'and', ' ', 'he', ' ', 'knew', ' ', 'me--only', ' ', 'it', ' ', 'happened', ' ', 'after', ' ', 'he', ' ', 'was', ' ', 'dead', '.', '\"', '\\n', '', '\\n', 'I', ' ', 'dropped', ' ', 'my', ' ', 'voice', ' ', 'instinctively', '.', '', ' ', '\"When', ' ', 'she', ' ', 'sent', ' ', 'for', ' ', 'you?\"', '\\n', '', '\\n', '\"Yes--quite', ' ', 'insensible', ' ', 'to', ' ', 'the', ' ', 'irony', '.', '', ' ', 'She', ' ', 'wanted', ' ', 'him', ' ', 'vindicated--and', ' ', 'by', ' ', 'me!\"', '\\n', '', '\\n', 'He', ' ', 'laughed', ' ', 'again', ',', '', ' ', 'and', ' ', 'threw', ' ', 'back', ' ', 'his', ' ', 'head', ' ', 'to', ' ', 'look', ' ', 'up', ' ', 'at', ' ', 'the', ' ', 'sketch', ' ', 'of', ' ', 'the', ' ', 'donkey', '.', '', ' ', '\"There', ' ', 'were', ' ', 'days', ' ', 'when', ' ', 'I', ' ', \"couldn't\", ' ', 'look', ' ', 'at', ' ', 'that', ' ', \"thing--couldn't\", ' ', 'face', ' ', 'it', '.', '', ' ', 'But', ' ', 'I', ' ', 'forced', ' ', 'myself', ' ', 'to', ' ', 'put', ' ', 'it', ' ', 'here;', ' ', 'and', ' ', 'now', ' ', \"it's\", ' ', 'cured', ' ', 'me--cured', ' ', 'me', '.', '', ' ', \"That's\", ' ', 'the', ' ', 'reason', ' ', 'why', ' ', 'I', ' ', \"don't\", ' ', 'dabble', ' ', 'any', ' ', 'more', ',', '', ' ', 'my', ' ', 'dear', ' ', 'Rickham;', ' ', 'or', ' ', 'rather', ' ', 'Stroud', ' ', 'himself', ' ', 'is', ' ', 'the', ' ', 'reason', '.', '\"', '\\n', '', '\\n', 'For', ' ', 'the', ' ', 'first', ' ', 'time', ' ', 'my', ' ', 'idle', ' ', 'curiosity', ' ', 'about', ' ', 'my', ' ', 'companion', ' ', 'turned', ' ', 'into', ' ', 'a', ' ', 'serious', ' ', 'desire', ' ', 'to', ' ', 'understand', ' ', 'him', ' ', 'better', '.', '', '\\n', '', '\\n', '\"I', ' ', 'wish', ' ', \"you'd\", ' ', 'tell', ' ', 'me', ' ', 'how', ' ', 'it', ' ', 'happened', ',', '\"', ' ', 'I', ' ', 'said', '.', '', '\\n', '', '\\n', 'He', ' ', 'stood', ' ', 'looking', ' ', 'up', ' ', 'at', ' ', 'the', ' ', 'sketch', ',', '', ' ', 'and', ' ', 'twirling', ' ', 'between', ' ', 'his', ' ', 'fingers', ' ', 'a', ' ', 'cigarette', ' ', 'he', ' ', 'had', ' ', 'forgotten', ' ', 'to', ' ', 'light', '.', '', ' ', 'Suddenly', ' ', 'he', ' ', 'turned', ' ', 'toward', ' ', 'me', '.', '', '\\n', '', '\\n', '\"I\\'d', ' ', 'rather', ' ', 'like', ' ', 'to', ' ', 'tell', ' ', 'you--because', ' ', \"I've\", ' ', 'always', ' ', 'suspected', ' ', 'you', ' ', 'of', ' ', 'loathing', ' ', 'my', ' ', 'work', '.', '\"', '\\n', '', '\\n', 'I', ' ', 'made', ' ', 'a', ' ', 'deprecating', ' ', 'gesture', ',', '', ' ', 'which', ' ', 'he', ' ', 'negatived', ' ', 'with', ' ', 'a', ' ', 'good-humoured', ' ', 'shrug', '.', '', '\\n', '', '\\n', '\"Oh', ',', '', ' ', 'I', ' ', \"didn't\", ' ', 'care', ' ', 'a', ' ', 'straw', ' ', 'when', ' ', 'I', ' ', 'believed', ' ', 'in', ' ', 'myself--and', ' ', 'now', ' ', \"it's\", ' ', 'an', ' ', 'added', ' ', 'tie', ' ', 'between', ' ', 'us!\"', '\\n', '', '\\n', 'He', ' ', 'laughed', ' ', 'slightly', ',', '', ' ', 'without', ' ', 'bitterness', ',', '', ' ', 'and', ' ', 'pushed', ' ', 'one', ' ', 'of', ' ', 'the', ' ', 'deep', ' ', 'arm-chairs', ' ', 'forward', '.', '', ' ', '\"There:', ' ', 'make', ' ', 'yourself', ' ', 'comfortable--and', ' ', 'here', ' ', 'are', ' ', 'the', ' ', 'cigars', ' ', 'you', ' ', 'like', '.', '\"', '\\n', '', '\\n', 'He', ' ', 'placed', ' ', 'them', ' ', 'at', ' ', 'my', ' ', 'elbow', ' ', 'and', ' ', 'continued', ' ', 'to', ' ', 'wander', ' ', 'up', ' ', 'and', ' ', 'down', ' ', 'the', ' ', 'room', ',', '', ' ', 'stopping', ' ', 'now', ' ', 'and', ' ', 'then', ' ', 'beneath', ' ', 'the', ' ', 'picture', '.', '', '\\n', '', '\\n', '\"How', ' ', 'it', ' ', 'happened?', ' ', 'I', ' ', 'can', ' ', 'tell', ' ', 'you', ' ', 'in', ' ', 'five', ' ', 'minutes--and', ' ', 'it', ' ', \"didn't\", ' ', 'take', ' ', 'much', ' ', 'longer', ' ', 'to', ' ', 'happen', '.', '', ' ', '', '.', '', ' ', '', '.', '', ' ', '', '.', '', ' ', 'I', ' ', 'can', ' ', 'remember', ' ', 'now', ' ', 'how', ' ', 'surprised', ' ', 'and', ' ', 'pleased', ' ', 'I', ' ', 'was', ' ', 'when', ' ', 'I', ' ', 'got', ' ', 'Mrs', '.', '', ' ', \"Stroud's\", ' ', 'note', '.', '', ' ', 'Of', ' ', 'course', ',', '', ' ', 'deep', ' ', 'down', ',', '', ' ', 'I', ' ', 'had', ' ', 'always', ' ', '_felt_', ' ', 'there', ' ', 'was', ' ', 'no', ' ', 'one', ' ', 'like', ' ', 'him--only', ' ', 'I', ' ', 'had', ' ', 'gone', ' ', 'with', ' ', 'the', ' ', 'stream', ',', '', ' ', 'echoed', ' ', 'the', ' ', 'usual', ' ', 'platitudes', ' ', 'about', ' ', 'him', ',', '', ' ', 'till', ' ', 'I', ' ', 'half', ' ', 'got', ' ', 'to', ' ', 'think', ' ', 'he', ' ', 'was', ' ', 'a', ' ', 'failure', ',', '', ' ', 'one', ' ', 'of', ' ', 'the', ' ', 'kind', ' ', 'that', ' ', 'are', ' ', 'left', ' ', 'behind', '.', '', ' ', 'By', ' ', 'Jove', ',', '', ' ', 'and', ' ', 'he', ' ', '_was_', ' ', 'left', ' ', 'behind--because', ' ', 'he', ' ', 'had', ' ', 'come', ' ', 'to', ' ', 'stay!', ' ', 'The', ' ', 'rest', ' ', 'of', ' ', 'us', ' ', 'had', ' ', 'to', ' ', 'let', ' ', 'ourselves', ' ', 'be', ' ', 'swept', ' ', 'along', ' ', 'or', ' ', 'go', ' ', 'under', ',', '', ' ', 'but', ' ', 'he', ' ', 'was', ' ', 'high', ' ', 'above', ' ', 'the', ' ', 'current--on', ' ', 'everlasting', ' ', 'foundations', ',', '', ' ', 'as', ' ', 'you', ' ', 'say', '.', '', '\\n', '', '\\n', '\"Well', ',', '', ' ', 'I', ' ', 'went', ' ', 'off', ' ', 'to', ' ', 'the', ' ', 'house', ' ', 'in', ' ', 'my', ' ', 'most', ' ', 'egregious', ' ', 'mood--rather', ' ', 'moved', ',', '', ' ', 'Lord', ' ', 'forgive', ' ', 'me', ',', '', ' ', 'at', ' ', 'the', ' ', 'pathos', ' ', 'of', ' ', 'poor', ' ', \"Stroud's\", ' ', 'career', ' ', 'of', ' ', 'failure', ' ', 'being', ' ', 'crowned', ' ', 'by', ' ', 'the', ' ', 'glory', ' ', 'of', ' ', 'my', ' ', 'painting', ' ', 'him!', ' ', 'Of', ' ', 'course', ' ', 'I', ' ', 'meant', ' ', 'to', ' ', 'do', ' ', 'the', ' ', 'picture', ' ', 'for', ' ', 'nothing--I', ' ', 'told', ' ', 'Mrs', '.', '', ' ', 'Stroud', ' ', 'so', ' ', 'when', ' ', 'she', ' ', 'began', ' ', 'to', ' ', 'stammer', ' ', 'something', ' ', 'about', ' ', 'her', ' ', 'poverty', '.', '', ' ', 'I', ' ', 'remember', ' ', 'getting', ' ', 'off', ' ', 'a', ' ', 'prodigious', ' ', 'phrase', ' ', 'about', ' ', 'the', ' ', 'honour', ' ', 'being', ' ', '_mine_--oh', ',', '', ' ', 'I', ' ', 'was', ' ', 'princely', ',', '', ' ', 'my', ' ', 'dear', ' ', 'Rickham!', ' ', 'I', ' ', 'was', ' ', 'posing', ' ', 'to', ' ', 'myself', ' ', 'like', ' ', 'one', ' ', 'of', ' ', 'my', ' ', 'own', ' ', 'sitters', '.', '', '\\n', '', '\\n', '\"Then', ' ', 'I', ' ', 'was', ' ', 'taken', ' ', 'up', ' ', 'and', ' ', 'left', ' ', 'alone', ' ', 'with', ' ', 'him', '.', '', ' ', 'I', ' ', 'had', ' ', 'sent', ' ', 'all', ' ', 'my', ' ', 'traps', ' ', 'in', ' ', 'advance', ',', '', ' ', 'and', ' ', 'I', ' ', 'had', ' ', 'only', ' ', 'to', ' ', 'set', ' ', 'up', ' ', 'the', ' ', 'easel', ' ', 'and', ' ', 'get', ' ', 'to', ' ', 'work', '.', '', ' ', 'He', ' ', 'had', ' ', 'been', ' ', 'dead', ' ', 'only', ' ', 'twenty-four', ' ', 'hours', ',', '', ' ', 'and', ' ', 'he', ' ', 'died', ' ', 'suddenly', ',', '', ' ', 'of', ' ', 'heart', ' ', 'disease', ',', '', ' ', 'so', ' ', 'that', ' ', 'there', ' ', 'had', ' ', 'been', ' ', 'no', ' ', 'preliminary', ' ', 'work', ' ', 'of', ' ', 'destruction--his', ' ', 'face', ' ', 'was', ' ', 'clear', ' ', 'and', ' ', 'untouched', '.', '', ' ', 'I', ' ', 'had', ' ', 'met', ' ', 'him', ' ', 'once', ' ', 'or', ' ', 'twice', ',', '', ' ', 'years', ' ', 'before', ',', '', ' ', 'and', ' ', 'thought', ' ', 'him', ' ', 'insignificant', ' ', 'and', ' ', 'dingy', '.', '', ' ', 'Now', ' ', 'I', ' ', 'saw', ' ', 'that', ' ', 'he', ' ', 'was', ' ', 'superb', '.', '', '\\n', '', '\\n', '\"I', ' ', 'was', ' ', 'glad', ' ', 'at', ' ', 'first', ',', '', ' ', 'with', ' ', 'a', ' ', 'merely', ' ', 'aesthetic', ' ', 'satisfaction:', ' ', 'glad', ' ', 'to', ' ', 'have', ' ', 'my', ' ', 'hand', ' ', 'on', ' ', 'such', ' ', 'a', ' ', \"'subject\", '.', \"'\", ' ', 'Then', ' ', 'his', ' ', 'strange', ' ', 'life-likeness', ' ', 'began', ' ', 'to', ' ', 'affect', ' ', 'me', ' ', 'queerly--as', ' ', 'I', ' ', 'blocked', ' ', 'the', ' ', 'head', ' ', 'in', ' ', 'I', ' ', 'felt', ' ', 'as', ' ', 'if', ' ', 'he', ' ', 'were', ' ', 'watching', ' ', 'me', ' ', 'do', ' ', 'it', '.', '', ' ', 'The', ' ', 'sensation', ' ', 'was', ' ', 'followed', ' ', 'by', ' ', 'the', ' ', 'thought:', ' ', 'if', ' ', 'he', ' ', '_were_', ' ', 'watching', ' ', 'me', ',', '', ' ', 'what', ' ', 'would', ' ', 'he', ' ', 'say', ' ', 'to', ' ', 'my', ' ', 'way', ' ', 'of', ' ', 'working?', ' ', 'My', ' ', 'strokes', ' ', 'began', ' ', 'to', ' ', 'go', ' ', 'a', ' ', 'little', ' ', 'wild--I', ' ', 'felt', ' ', 'nervous', ' ', 'and', ' ', 'uncertain', '.', '', '\\n', '', '\\n', '\"Once', ',', '', ' ', 'when', ' ', 'I', ' ', 'looked', ' ', 'up', ',', '', ' ', 'I', ' ', 'seemed', ' ', 'to', ' ', 'see', ' ', 'a', ' ', 'smile', ' ', 'behind', ' ', 'his', ' ', 'close', ' ', 'grayish', ' ', 'beard--as', ' ', 'if', ' ', 'he', ' ', 'had', ' ', 'the', ' ', 'secret', ',', '', ' ', 'and', ' ', 'were', ' ', 'amusing', ' ', 'himself', ' ', 'by', ' ', 'holding', ' ', 'it', ' ', 'back', ' ', 'from', ' ', 'me', '.', '', ' ', 'That', ' ', 'exasperated', ' ', 'me', ' ', 'still', ' ', 'more', '.', '', ' ', 'The', ' ', 'secret?', ' ', 'Why', ',', '', ' ', 'I', ' ', 'had', ' ', 'a', ' ', 'secret', ' ', 'worth', ' ', 'twenty', ' ', 'of', ' ', 'his!', ' ', 'I', ' ', 'dashed', ' ', 'at', ' ', 'the', ' ', 'canvas', ' ', 'furiously', ',', '', ' ', 'and', ' ', 'tried', ' ', 'some', ' ', 'of', ' ', 'my', ' ', 'bravura', ' ', 'tricks', '.', '', ' ', 'But', ' ', 'they', ' ', 'failed', ' ', 'me', ',', '', ' ', 'they', ' ', 'crumbled', '.', '', ' ', 'I', ' ', 'saw', ' ', 'that', ' ', 'he', ' ', \"wasn't\", ' ', 'watching', ' ', 'the', ' ', 'showy', ' ', 'bits--I', ' ', \"couldn't\", ' ', 'distract', ' ', 'his', ' ', 'attention;', ' ', 'he', ' ', 'just', ' ', 'kept', ' ', 'his', ' ', 'eyes', ' ', 'on', ' ', 'the', ' ', 'hard', ' ', 'passages', ' ', 'between', '.', '', ' ', 'Those', ' ', 'were', ' ', 'the', ' ', 'ones', ' ', 'I', ' ', 'had', ' ', 'always', ' ', 'shirked', ',', '', ' ', 'or', ' ', 'covered', ' ', 'up', ' ', 'with', ' ', 'some', ' ', 'lying', ' ', 'paint', '.', '', ' ', 'And', ' ', 'how', ' ', 'he', ' ', 'saw', ' ', 'through', ' ', 'my', ' ', 'lies!', '\\n', '', '\\n', '\"I', ' ', 'looked', ' ', 'up', ' ', 'again', ',', '', ' ', 'and', ' ', 'caught', ' ', 'sight', ' ', 'of', ' ', 'that', ' ', 'sketch', ' ', 'of', ' ', 'the', ' ', 'donkey', ' ', 'hanging', ' ', 'on', ' ', 'the', ' ', 'wall', ' ', 'near', ' ', 'his', ' ', 'bed', '.', '', ' ', 'His', ' ', 'wife', ' ', 'told', ' ', 'me', ' ', 'afterward', ' ', 'it', ' ', 'was', ' ', 'the', ' ', 'last', ' ', 'thing', ' ', 'he', ' ', 'had', ' ', 'done--just', ' ', 'a', ' ', 'note', ' ', 'taken', ' ', 'with', ' ', 'a', ' ', 'shaking', ' ', 'hand', ',', '', ' ', 'when', ' ', 'he', ' ', 'was', ' ', 'down', ' ', 'in', ' ', 'Devonshire', ' ', 'recovering', ' ', 'from', ' ', 'a', ' ', 'previous', ' ', 'heart', ' ', 'attack', '.', '', ' ', 'Just', ' ', 'a', ' ', 'note!', ' ', 'But', ' ', 'it', ' ', 'tells', ' ', 'his', ' ', 'whole', ' ', 'history', '.', '', ' ', 'There', ' ', 'are', ' ', 'years', ' ', 'of', ' ', 'patient', ' ', 'scornful', ' ', 'persistence', ' ', 'in', ' ', 'every', ' ', 'line', '.', '', ' ', 'A', ' ', 'man', ' ', 'who', ' ', 'had', ' ', 'swum', ' ', 'with', ' ', 'the', ' ', 'current', ' ', 'could', ' ', 'never', ' ', 'have', ' ', 'learned', ' ', 'that', ' ', 'mighty', ' ', 'up-stream', ' ', 'stroke', '.', '', ' ', '', '.', '', ' ', '', '.', '', ' ', '', '.', '', '\\n', '', '\\n', '\"I', ' ', 'turned', ' ', 'back', ' ', 'to', ' ', 'my', ' ', 'work', ',', '', ' ', 'and', ' ', 'went', ' ', 'on', ' ', 'groping', ' ', 'and', ' ', 'muddling;', ' ', 'then', ' ', 'I', ' ', 'looked', ' ', 'at', ' ', 'the', ' ', 'donkey', ' ', 'again', '.', '', ' ', 'I', ' ', 'saw', ' ', 'that', ',', '', ' ', 'when', ' ', 'Stroud', ' ', 'laid', ' ', 'in', ' ', 'the', ' ', 'first', ' ', 'stroke', ',', '', ' ', 'he', ' ', 'knew', ' ', 'just', ' ', 'what', ' ', 'the', ' ', 'end', ' ', 'would', ' ', 'be', '.', '', ' ', 'He', ' ', 'had', ' ', 'possessed', ' ', 'his', ' ', 'subject', ',', '', ' ', 'absorbed', ' ', 'it', ',', '', ' ', 'recreated', ' ', 'it', '.', '', ' ', 'When', ' ', 'had', ' ', 'I', ' ', 'done', ' ', 'that', ' ', 'with', ' ', 'any', ' ', 'of', ' ', 'my', ' ', 'things?', ' ', 'They', ' ', \"hadn't\", ' ', 'been', ' ', 'born', ' ', 'of', ' ', 'me--I', ' ', 'had', ' ', 'just', ' ', 'adopted', ' ', 'them', '.', '', ' ', '', '.', '', ' ', '', '.', '', ' ', '', '.', '', '\\n', '', '\\n', '\"Hang', ' ', 'it', ',', '', ' ', 'Rickham', ',', '', ' ', 'with', ' ', 'that', ' ', 'face', ' ', 'watching', ' ', 'me', ' ', 'I', ' ', \"couldn't\", ' ', 'do', ' ', 'another', ' ', 'stroke', '.', '', ' ', 'The', ' ', 'plain', ' ', 'truth', ' ', 'was', ',', '', ' ', 'I', ' ', \"didn't\", ' ', 'know', ' ', 'where', ' ', 'to', ' ', 'put', ' ', 'it--_I', ' ', 'had', ' ', 'never', ' ', 'known_', '.', '', ' ', 'Only', ',', '', ' ', 'with', ' ', 'my', ' ', 'sitters', ' ', 'and', ' ', 'my', ' ', 'public', ',', '', ' ', 'a', ' ', 'showy', ' ', 'splash', ' ', 'of', ' ', 'colour', ' ', 'covered', ' ', 'up', ' ', 'the', ' ', 'fact--I', ' ', 'just', ' ', 'threw', ' ', 'paint', ' ', 'into', ' ', 'their', ' ', 'faces', '.', '', ' ', '', '.', '', ' ', '', '.', '', ' ', '', '.', '', ' ', 'Well', ',', '', ' ', 'paint', ' ', 'was', ' ', 'the', ' ', 'one', ' ', 'medium', ' ', 'those', ' ', 'dead', ' ', 'eyes', ' ', 'could', ' ', 'see', ' ', 'through--see', ' ', 'straight', ' ', 'to', ' ', 'the', ' ', 'tottering', ' ', 'foundations', ' ', 'underneath', '.', '', ' ', \"Don't\", ' ', 'you', ' ', 'know', ' ', 'how', ',', '', ' ', 'in', ' ', 'talking', ' ', 'a', ' ', 'foreign', ' ', 'language', ',', '', ' ', 'even', ' ', 'fluently', ',', '', ' ', 'one', ' ', 'says', ' ', 'half', ' ', 'the', ' ', 'time', ' ', 'not', ' ', 'what', ' ', 'one', ' ', 'wants', ' ', 'to', ' ', 'but', ' ', 'what', ' ', 'one', ' ', 'can?', ' ', 'Well--that', ' ', 'was', ' ', 'the', ' ', 'way', ' ', 'I', ' ', 'painted;', ' ', 'and', ' ', 'as', ' ', 'he', ' ', 'lay', ' ', 'there', ' ', 'and', ' ', 'watched', ' ', 'me', ',', '', ' ', 'the', ' ', 'thing', ' ', 'they', ' ', 'called', ' ', 'my', ' ', \"'technique'\", ' ', 'collapsed', ' ', 'like', ' ', 'a', ' ', 'house', ' ', 'of', ' ', 'cards', '.', '', ' ', 'He', ' ', \"didn't\", ' ', 'sneer', ',', '', ' ', 'you', ' ', 'understand', ',', '', ' ', 'poor', ' ', 'Stroud--he', ' ', 'just', ' ', 'lay', ' ', 'there', ' ', 'quietly', ' ', 'watching', ',', '', ' ', 'and', ' ', 'on', ' ', 'his', ' ', 'lips', ',', '', ' ', 'through', ' ', 'the', ' ', 'gray', ' ', 'beard', ',', '', ' ', 'I', ' ', 'seemed', ' ', 'to', ' ', 'hear', ' ', 'the', ' ', 'question:', ' ', \"'Are\", ' ', 'you', ' ', 'sure', ' ', 'you', ' ', 'know', ' ', 'where', ' ', \"you're\", ' ', 'coming', ' ', \"out?'\", '\\n', '', '\\n', '\"If', ' ', 'I', ' ', 'could', ' ', 'have', ' ', 'painted', ' ', 'that', ' ', 'face', ',', '', ' ', 'with', ' ', 'that', ' ', 'question', ' ', 'on', ' ', 'it', ',', '', ' ', 'I', ' ', 'should', ' ', 'have', ' ', 'done', ' ', 'a', ' ', 'great', ' ', 'thing', '.', '', ' ', 'The', ' ', 'next', ' ', 'greatest', ' ', 'thing', ' ', 'was', ' ', 'to', ' ', 'see', ' ', 'that', ' ', 'I', ' ', \"couldn't--and\", ' ', 'that', ' ', 'grace', ' ', 'was', ' ', 'given', ' ', 'me', '.', '', ' ', 'But', ',', '', ' ', 'oh', ',', '', ' ', 'at', ' ', 'that', ' ', 'minute', ',', '', ' ', 'Rickham', ',', '', ' ', 'was', ' ', 'there', ' ', 'anything', ' ', 'on', ' ', 'earth', ' ', 'I', ' ', \"wouldn't\", ' ', 'have', ' ', 'given', ' ', 'to', ' ', 'have', ' ', 'Stroud', ' ', 'alive', ' ', 'before', ' ', 'me', ',', '', ' ', 'and', ' ', 'to', ' ', 'hear', ' ', 'him', ' ', 'say:', ' ', \"'It's\", ' ', 'not', ' ', 'too', ' ', \"late--I'll\", ' ', 'show', ' ', 'you', ' ', \"how'?\", '\\n', '', '\\n', '\"It', ' ', '_was_', ' ', 'too', ' ', 'late--it', ' ', 'would', ' ', 'have', ' ', 'been', ',', '', ' ', 'even', ' ', 'if', ' ', \"he'd\", ' ', 'been', ' ', 'alive', '.', '', ' ', 'I', ' ', 'packed', ' ', 'up', ' ', 'my', ' ', 'traps', ',', '', ' ', 'and', ' ', 'went', ' ', 'down', ' ', 'and', ' ', 'told', ' ', 'Mrs', '.', '', ' ', 'Stroud', '.', '', ' ', 'Of', ' ', 'course', ' ', 'I', ' ', \"didn't\", ' ', 'tell', ' ', 'her', ' ', '_that_--it', ' ', 'would', ' ', 'have', ' ', 'been', ' ', 'Greek', ' ', 'to', ' ', 'her', '.', '', ' ', 'I', ' ', 'simply', ' ', 'said', ' ', 'I', ' ', \"couldn't\", ' ', 'paint', ' ', 'him', ',', '', ' ', 'that', ' ', 'I', ' ', 'was', ' ', 'too', ' ', 'moved', '.', '', ' ', 'She', ' ', 'rather', ' ', 'liked', ' ', 'the', ' ', \"idea--she's\", ' ', 'so', ' ', 'romantic!', ' ', 'It', ' ', 'was', ' ', 'that', ' ', 'that', ' ', 'made', ' ', 'her', ' ', 'give', ' ', 'me', ' ', 'the', ' ', 'donkey', '.', '', ' ', 'But', ' ', 'she', ' ', 'was', ' ', 'terribly', ' ', 'upset', ' ', 'at', ' ', 'not', ' ', 'getting', ' ', 'the', ' ', 'portrait--she', ' ', 'did', ' ', 'so', ' ', 'want', ' ', 'him', ' ', \"'done'\", ' ', 'by', ' ', 'some', ' ', 'one', ' ', 'showy!', ' ', 'At', ' ', 'first', ' ', 'I', ' ', 'was', ' ', 'afraid', ' ', 'she', ' ', \"wouldn't\", ' ', 'let', ' ', 'me', ' ', 'off--and', ' ', 'at', ' ', 'my', ' ', \"wits'\", ' ', 'end', ' ', 'I', ' ', 'suggested', ' ', 'Grindle', '.', '', ' ', 'Yes', ',', '', ' ', 'it', ' ', 'was', ' ', 'I', ' ', 'who', ' ', 'started', ' ', 'Grindle:', ' ', 'I', ' ', 'told', ' ', 'Mrs', '.', '', ' ', 'Stroud', ' ', 'he', ' ', 'was', ' ', 'the', ' ', \"'coming'\", ' ', 'man', ',', '', ' ', 'and', ' ', 'she', ' ', 'told', ' ', 'somebody', ' ', 'else', ',', '', ' ', 'and', ' ', 'so', ' ', 'it', ' ', 'got', ' ', 'to', ' ', 'be', ' ', 'true', '.', '', ' ', '', '.', '', ' ', '', '.', '', ' ', '', '.', '', ' ', 'And', ' ', 'he', ' ', 'painted', ' ', 'Stroud', ' ', 'without', ' ', 'wincing;', ' ', 'and', ' ', 'she', ' ', 'hung', ' ', 'the', ' ', 'picture', ' ', 'among', ' ', 'her', ' ', \"husband's\", ' ', 'things', '.', '', ' ', '', '.', '', ' ', '', '.', '', ' ', '', '.', '\"', '\\n', '', '\\n', 'He', ' ', 'flung', ' ', 'himself', ' ', 'down', ' ', 'in', ' ', 'the', ' ', 'arm-chair', ' ', 'near', ' ', 'mine', ',', '', ' ', 'laid', ' ', 'back', ' ', 'his', ' ', 'head', ',', '', ' ', 'and', ' ', 'clasping', ' ', 'his', ' ', 'arms', ' ', 'beneath', ' ', 'it', ',', '', ' ', 'looked', ' ', 'up', ' ', 'at', ' ', 'the', ' ', 'picture', ' ', 'above', ' ', 'the', ' ', 'chimney-piece', '.', '', '\\n', '', '\\n', '\"I', ' ', 'like', ' ', 'to', ' ', 'fancy', ' ', 'that', ' ', 'Stroud', ' ', 'himself', ' ', 'would', ' ', 'have', ' ', 'given', ' ', 'it', ' ', 'to', ' ', 'me', ',', '', ' ', 'if', ' ', \"he'd\", ' ', 'been', ' ', 'able', ' ', 'to', ' ', 'say', ' ', 'what', ' ', 'he', ' ', 'thought', ' ', 'that', ' ', 'day', '.', '\"', '\\n', '', '\\n', 'And', ',', '', ' ', 'in', ' ', 'answer', ' ', 'to', ' ', 'a', ' ', 'question', ' ', 'I', ' ', 'put', ' ', 'half-mechanically--\"Begin', ' ', 'again?\"', ' ', 'he', ' ', 'flashed', ' ', 'out', '.', '', ' ', '\"When', ' ', 'the', ' ', 'one', ' ', 'thing', ' ', 'that', ' ', 'brings', ' ', 'me', ' ', 'anywhere', ' ', 'near', ' ', 'him', ' ', 'is', ' ', 'that', ' ', 'I', ' ', 'knew', ' ', 'enough', ' ', 'to', ' ', 'leave', ' ', 'off?\"', '\\n', '', '\\n', 'He', ' ', 'stood', ' ', 'up', ' ', 'and', ' ', 'laid', ' ', 'his', ' ', 'hand', ' ', 'on', ' ', 'my', ' ', 'shoulder', ' ', 'with', ' ', 'a', ' ', 'laugh', '.', '', ' ', '\"Only', ' ', 'the', ' ', 'irony', ' ', 'of', ' ', 'it', ' ', 'is', ' ', 'that', ' ', 'I', ' ', '_am_', ' ', 'still', ' ', 'painting--since', ' ', \"Grindle's\", ' ', 'doing', ' ', 'it', ' ', 'for', ' ', 'me!', ' ', 'The', ' ', 'Strouds', ' ', 'stand', ' ', 'alone', ',', '', ' ', 'and', ' ', 'happen', ' ', 'once--but', ' ', \"there's\", ' ', 'no', ' ', 'exterminating', ' ', 'our', ' ', 'kind', ' ', 'of', ' ', 'art', '.', '\"']\n"
          ]
        }
      ]
    },
    {
      "cell_type": "code",
      "source": [
        "#### Let's token the entire raw text ##\n",
        "\n",
        "preprocessed = re.split(r'([,.:;?_!\"()\\']|--|\\s)', text)\n",
        "preprocessed = [item.strip() for item in preprocessed if item.strip()]\n",
        "print(preprocessed[:30])\n"
      ],
      "metadata": {
        "colab": {
          "base_uri": "https://localhost:8080/"
        },
        "id": "JbpnLpfw772G",
        "outputId": "46aec4cf-25ca-4284-8a0e-ff730cf7c994"
      },
      "execution_count": 5,
      "outputs": [
        {
          "output_type": "stream",
          "name": "stdout",
          "text": [
            "['I', 'HAD', 'always', 'thought', 'Jack', 'Gisburn', 'rather', 'a', 'cheap', 'genius', '--', 'though', 'a', 'good', 'fellow', 'enough', '--', 'so', 'it', 'was', 'no', 'great', 'surprise', 'to', 'me', 'to', 'hear', 'that', ',', 'in']\n"
          ]
        }
      ]
    },
    {
      "cell_type": "code",
      "source": [
        "### Converting tokens into Embeddings ####\n",
        "\n",
        "all_words = sorted(set(preprocessed))\n",
        "vocab_size = len(all_words)\n",
        "print(vocab_size)\n",
        "\n"
      ],
      "metadata": {
        "colab": {
          "base_uri": "https://localhost:8080/"
        },
        "id": "8WUB-m5I8cTC",
        "outputId": "87a7f936-708f-4954-b3bd-1a351154d711"
      },
      "execution_count": 6,
      "outputs": [
        {
          "output_type": "stream",
          "name": "stdout",
          "text": [
            "1130\n"
          ]
        }
      ]
    },
    {
      "cell_type": "code",
      "source": [
        "## Creating a vocabulary ###\n",
        "\n",
        "vocab = {token:integer for integer, token in enumerate(all_words)}\n",
        "for i, item in enumerate(vocab.items()):\n",
        "    print(item)\n",
        "    if i >= 50:\n",
        "        break\n",
        "\n"
      ],
      "metadata": {
        "colab": {
          "base_uri": "https://localhost:8080/"
        },
        "id": "8mNO7ZgU9Eta",
        "outputId": "49869e2c-de68-4afd-b653-e27698be8532"
      },
      "execution_count": 7,
      "outputs": [
        {
          "output_type": "stream",
          "name": "stdout",
          "text": [
            "('!', 0)\n",
            "('\"', 1)\n",
            "(\"'\", 2)\n",
            "('(', 3)\n",
            "(')', 4)\n",
            "(',', 5)\n",
            "('--', 6)\n",
            "('.', 7)\n",
            "(':', 8)\n",
            "(';', 9)\n",
            "('?', 10)\n",
            "('A', 11)\n",
            "('Ah', 12)\n",
            "('Among', 13)\n",
            "('And', 14)\n",
            "('Are', 15)\n",
            "('Arrt', 16)\n",
            "('As', 17)\n",
            "('At', 18)\n",
            "('Be', 19)\n",
            "('Begin', 20)\n",
            "('Burlington', 21)\n",
            "('But', 22)\n",
            "('By', 23)\n",
            "('Carlo', 24)\n",
            "('Chicago', 25)\n",
            "('Claude', 26)\n",
            "('Come', 27)\n",
            "('Croft', 28)\n",
            "('Destroyed', 29)\n",
            "('Devonshire', 30)\n",
            "('Don', 31)\n",
            "('Dubarry', 32)\n",
            "('Emperors', 33)\n",
            "('Florence', 34)\n",
            "('For', 35)\n",
            "('Gallery', 36)\n",
            "('Gideon', 37)\n",
            "('Gisburn', 38)\n",
            "('Gisburns', 39)\n",
            "('Grafton', 40)\n",
            "('Greek', 41)\n",
            "('Grindle', 42)\n",
            "('Grindles', 43)\n",
            "('HAD', 44)\n",
            "('Had', 45)\n",
            "('Hang', 46)\n",
            "('Has', 47)\n",
            "('He', 48)\n",
            "('Her', 49)\n",
            "('Hermia', 50)\n"
          ]
        }
      ]
    },
    {
      "cell_type": "code",
      "source": [
        "#### Implementing a simple tokenizer ###\n",
        "\n",
        "class SimpleTokenizerV1:\n",
        "    def __init__(self, vocab):\n",
        "      self.str_to_int = vocab\n",
        "      self.int_to_str = {i:s for s,i in vocab.items()}\n",
        "\n",
        "    def encode(self,text):\n",
        "      preprocessed = re.split(r'([,.:;?_!\"()\\']|--|\\s)', text)\n",
        "      preprocessed = [item.strip() for item in preprocessed if item.strip()]\n",
        "      ids = [self.str_to_int[s] for s in preprocessed]\n",
        "      return ids\n",
        "\n",
        "    def decode(self,ids):\n",
        "      text = \" \".join([self.int_to_str[i] for i in ids])\n",
        "      text = re.sub(r'([,.:;?_!\"()\\']|--|\\\\s)', r'\\1', text)\n",
        "      return text\n",
        "\n",
        "\n"
      ],
      "metadata": {
        "id": "cUVPy7BxH8-e"
      },
      "execution_count": 8,
      "outputs": []
    },
    {
      "cell_type": "code",
      "source": [
        "### Initiating the tokeniser class ###\n",
        "\n",
        "tokenizer = SimpleTokenizerV1(vocab)\n",
        "\n",
        "\n",
        "text = \"\"\"\"Mrs. Gisburn said with pardonable pride.\"\"\"\"\"\n",
        "\n",
        "ids = tokenizer.encode(text)"
      ],
      "metadata": {
        "id": "YfY8uvbEI9PI"
      },
      "execution_count": 9,
      "outputs": []
    },
    {
      "cell_type": "code",
      "source": [
        "tokenizer = SimpleTokenizerV1(vocab)\n",
        "\n",
        "text = \"\"\"\"It's the last he painted, you know,\"\n",
        "           Mrs. Gisburn said with pardonable pride.\"\"\"\n",
        "ids = tokenizer.encode(text)\n",
        "print(ids)"
      ],
      "metadata": {
        "colab": {
          "base_uri": "https://localhost:8080/"
        },
        "id": "t-ZAt18UQIvV",
        "outputId": "a5a2656c-6455-44b0-a17e-b202b6ac625b"
      },
      "execution_count": 10,
      "outputs": [
        {
          "output_type": "stream",
          "name": "stdout",
          "text": [
            "[1, 56, 2, 850, 988, 602, 533, 746, 5, 1126, 596, 5, 1, 67, 7, 38, 851, 1108, 754, 793, 7]\n"
          ]
        }
      ]
    },
    {
      "cell_type": "code",
      "source": [
        "\n",
        "tokenizer.decode(ids)"
      ],
      "metadata": {
        "colab": {
          "base_uri": "https://localhost:8080/",
          "height": 35
        },
        "id": "7Z2DkBK3Qs1t",
        "outputId": "5ecabed2-45e5-4c01-ca3d-0cc3fc53bbc0"
      },
      "execution_count": 11,
      "outputs": [
        {
          "output_type": "execute_result",
          "data": {
            "text/plain": [
              "'\" It \\' s the last he painted , you know , \" Mrs . Gisburn said with pardonable pride .'"
            ],
            "application/vnd.google.colaboratory.intrinsic+json": {
              "type": "string"
            }
          },
          "metadata": {},
          "execution_count": 11
        }
      ]
    },
    {
      "cell_type": "code",
      "source": [
        "#### Adding in Special Tokens ###\n",
        "\n",
        "\n",
        "all_tokens = sorted(list(set(preprocessed)))\n",
        "all_tokens.extend([\"<|endoftext|>\", \"<|unk|>\"])\n",
        "\n",
        "vocab = {token:integer for integer,token in enumerate(all_tokens)}"
      ],
      "metadata": {
        "id": "5cDeRdbPQ8_F"
      },
      "execution_count": 12,
      "outputs": []
    },
    {
      "cell_type": "code",
      "source": [
        "len(vocab.items())"
      ],
      "metadata": {
        "colab": {
          "base_uri": "https://localhost:8080/"
        },
        "id": "ovkX56YaReEB",
        "outputId": "31f71430-75e4-4f51-c21e-edb3a88f9a23"
      },
      "execution_count": 13,
      "outputs": [
        {
          "output_type": "execute_result",
          "data": {
            "text/plain": [
              "1132"
            ]
          },
          "metadata": {},
          "execution_count": 13
        }
      ]
    },
    {
      "cell_type": "code",
      "source": [
        "\n",
        "for i, item in enumerate(list(vocab.items())[-5:]):\n",
        "    print(item)"
      ],
      "metadata": {
        "colab": {
          "base_uri": "https://localhost:8080/"
        },
        "id": "OYYUOjK_RgyG",
        "outputId": "ae0d6c14-880c-4783-b4e4-b2378a6e31e6"
      },
      "execution_count": 14,
      "outputs": [
        {
          "output_type": "stream",
          "name": "stdout",
          "text": [
            "('younger', 1127)\n",
            "('your', 1128)\n",
            "('yourself', 1129)\n",
            "('<|endoftext|>', 1130)\n",
            "('<|unk|>', 1131)\n"
          ]
        }
      ]
    },
    {
      "cell_type": "code",
      "source": [
        "#### Changing the tokeniser to account for unk #####\n",
        "\n",
        "\n",
        "class SimpleTokenizerV2:\n",
        "    def __init__(self, vocab):\n",
        "        self.str_to_int = vocab\n",
        "        self.int_to_str = { i:s for s,i in vocab.items()}\n",
        "\n",
        "    def encode(self, text):\n",
        "        preprocessed = re.split(r'([,.:;?_!\"()\\']|--|\\s)', text)\n",
        "        preprocessed = [item.strip() for item in preprocessed if item.strip()]\n",
        "        preprocessed = [\n",
        "            item if item in self.str_to_int\n",
        "            else \"<|unk|>\" for item in preprocessed\n",
        "        ]\n",
        "\n",
        "        ids = [self.str_to_int[s] for s in preprocessed]\n",
        "        return ids\n",
        "\n",
        "    def decode(self, ids):\n",
        "        text = \" \".join([self.int_to_str[i] for i in ids])\n",
        "        # Replace spaces before the specified punctuations\n",
        "        text = re.sub(r'\\s+([,.:;?!\"()\\'])', r'\\1', text)\n",
        "        return text\n",
        "\n"
      ],
      "metadata": {
        "id": "sc61tQuoRnef"
      },
      "execution_count": 15,
      "outputs": []
    },
    {
      "cell_type": "code",
      "source": [
        "## Trying the version of the Tokenizer ####\n",
        "\n",
        "\n",
        "tokenizer = SimpleTokenizerV2(vocab)\n",
        "\n",
        "text1 = \"Hello, do you like tea?\"\n",
        "text2 = \"In the sunlit terraces of the palace.\"\n",
        "\n",
        "text = \" <|endoftext|> \".join((text1, text2))\n",
        "\n",
        "print(text)"
      ],
      "metadata": {
        "colab": {
          "base_uri": "https://localhost:8080/"
        },
        "id": "jeOisYMNBwBf",
        "outputId": "9106be41-6e9d-4334-9763-64c7538d53c4"
      },
      "execution_count": 16,
      "outputs": [
        {
          "output_type": "stream",
          "name": "stdout",
          "text": [
            "Hello, do you like tea? <|endoftext|> In the sunlit terraces of the palace.\n"
          ]
        }
      ]
    },
    {
      "cell_type": "code",
      "source": [
        "\n",
        "tokenizer.encode(text)"
      ],
      "metadata": {
        "colab": {
          "base_uri": "https://localhost:8080/"
        },
        "id": "niwjW0IcC7gT",
        "outputId": "158fbeb8-b3f6-46c5-a583-3244098fd96a"
      },
      "execution_count": 17,
      "outputs": [
        {
          "output_type": "execute_result",
          "data": {
            "text/plain": [
              "[1131, 5, 355, 1126, 628, 975, 10, 1130, 55, 988, 956, 984, 722, 988, 1131, 7]"
            ]
          },
          "metadata": {},
          "execution_count": 17
        }
      ]
    },
    {
      "cell_type": "code",
      "source": [
        "tokenizer.decode(tokenizer.encode(text))"
      ],
      "metadata": {
        "colab": {
          "base_uri": "https://localhost:8080/",
          "height": 35
        },
        "id": "cb4X8CcZC-Rl",
        "outputId": "f1136be3-1a98-46ba-aaf6-cf10e0f19d49"
      },
      "execution_count": 18,
      "outputs": [
        {
          "output_type": "execute_result",
          "data": {
            "text/plain": [
              "'<|unk|>, do you like tea? <|endoftext|> In the sunlit terraces of the <|unk|>.'"
            ],
            "application/vnd.google.colaboratory.intrinsic+json": {
              "type": "string"
            }
          },
          "metadata": {},
          "execution_count": 18
        }
      ]
    },
    {
      "cell_type": "code",
      "source": [
        "!pip install tiktoken"
      ],
      "metadata": {
        "colab": {
          "base_uri": "https://localhost:8080/"
        },
        "id": "yKW_3Y_1Ekmz",
        "outputId": "c119cc7e-633c-42a2-d1b5-d05455da8b42"
      },
      "execution_count": 19,
      "outputs": [
        {
          "output_type": "stream",
          "name": "stdout",
          "text": [
            "Collecting tiktoken\n",
            "  Downloading tiktoken-0.8.0-cp311-cp311-manylinux_2_17_x86_64.manylinux2014_x86_64.whl.metadata (6.6 kB)\n",
            "Requirement already satisfied: regex>=2022.1.18 in /usr/local/lib/python3.11/dist-packages (from tiktoken) (2024.11.6)\n",
            "Requirement already satisfied: requests>=2.26.0 in /usr/local/lib/python3.11/dist-packages (from tiktoken) (2.32.3)\n",
            "Requirement already satisfied: charset-normalizer<4,>=2 in /usr/local/lib/python3.11/dist-packages (from requests>=2.26.0->tiktoken) (3.4.1)\n",
            "Requirement already satisfied: idna<4,>=2.5 in /usr/local/lib/python3.11/dist-packages (from requests>=2.26.0->tiktoken) (3.10)\n",
            "Requirement already satisfied: urllib3<3,>=1.21.1 in /usr/local/lib/python3.11/dist-packages (from requests>=2.26.0->tiktoken) (2.3.0)\n",
            "Requirement already satisfied: certifi>=2017.4.17 in /usr/local/lib/python3.11/dist-packages (from requests>=2.26.0->tiktoken) (2025.1.31)\n",
            "Downloading tiktoken-0.8.0-cp311-cp311-manylinux_2_17_x86_64.manylinux2014_x86_64.whl (1.2 MB)\n",
            "\u001b[?25l   \u001b[90m━━━━━━━━━━━━━━━━━━━━━━━━━━━━━━━━━━━━━━━━\u001b[0m \u001b[32m0.0/1.2 MB\u001b[0m \u001b[31m?\u001b[0m eta \u001b[36m-:--:--\u001b[0m\r\u001b[2K   \u001b[91m━━━━━━━━━━━━━━━━━━━━━━━━━━━━━━━━\u001b[0m\u001b[91m╸\u001b[0m\u001b[90m━━━━━━━\u001b[0m \u001b[32m1.0/1.2 MB\u001b[0m \u001b[31m30.5 MB/s\u001b[0m eta \u001b[36m0:00:01\u001b[0m\r\u001b[2K   \u001b[90m━━━━━━━━━━━━━━━━━━━━━━━━━━━━━━━━━━━━━━━━\u001b[0m \u001b[32m1.2/1.2 MB\u001b[0m \u001b[31m18.0 MB/s\u001b[0m eta \u001b[36m0:00:00\u001b[0m\n",
            "\u001b[?25hInstalling collected packages: tiktoken\n",
            "Successfully installed tiktoken-0.8.0\n"
          ]
        }
      ]
    },
    {
      "cell_type": "code",
      "source": [
        "## Byte pair Encoding ####\n",
        "\n",
        "\n",
        "import importlib\n",
        "import tiktoken\n",
        "\n"
      ],
      "metadata": {
        "id": "0sYonFsEDDU3"
      },
      "execution_count": 20,
      "outputs": []
    },
    {
      "cell_type": "code",
      "source": [
        "tokenizer = tiktoken.get_encoding('gpt2')"
      ],
      "metadata": {
        "id": "aMPDTjfeEqbN"
      },
      "execution_count": 21,
      "outputs": []
    },
    {
      "cell_type": "code",
      "source": [
        "text = (\n",
        "    \"Hello, do you like tea? <|endoftext|> In the sunlit terraces\"\n",
        "     \"of someunknownPlace.\"\n",
        ")\n",
        "\n",
        "integers = tokenizer.encode(text, allowed_special={\"<|endoftext|>\"})\n",
        "\n",
        "print(integers)"
      ],
      "metadata": {
        "colab": {
          "base_uri": "https://localhost:8080/"
        },
        "id": "-OvkRbhKEwDr",
        "outputId": "19dac69b-24d9-4cef-9e25-1ae552217354"
      },
      "execution_count": 22,
      "outputs": [
        {
          "output_type": "stream",
          "name": "stdout",
          "text": [
            "[15496, 11, 466, 345, 588, 8887, 30, 220, 50256, 554, 262, 4252, 18250, 8812, 2114, 1659, 617, 34680, 27271, 13]\n"
          ]
        }
      ]
    },
    {
      "cell_type": "code",
      "source": [
        "strings = tokenizer.decode(integers)\n",
        "print(strings)"
      ],
      "metadata": {
        "colab": {
          "base_uri": "https://localhost:8080/"
        },
        "id": "pnnOnE0QE0JT",
        "outputId": "dbd285d9-1b5d-4ed9-f122-cd67effc68f0"
      },
      "execution_count": 23,
      "outputs": [
        {
          "output_type": "stream",
          "name": "stdout",
          "text": [
            "Hello, do you like tea? <|endoftext|> In the sunlit terracesof someunknownPlace.\n"
          ]
        }
      ]
    },
    {
      "cell_type": "code",
      "source": [
        "### Data Sampling with a sliding window ###\n",
        "\n",
        "## Open \"verdict.txt\"\n",
        "\n",
        "with open (\"the-verdict.txt\", \"r\", encoding=\"utf-8\") as f:\n",
        "    text = f.read()\n",
        "\n",
        "enc_text =tokenizer.encode(text)\n",
        "\n",
        "print(len(enc_text))"
      ],
      "metadata": {
        "colab": {
          "base_uri": "https://localhost:8080/"
        },
        "id": "t7qDbgulE5l6",
        "outputId": "348a5669-9e16-4af5-d63f-d7452a9c9344"
      },
      "execution_count": 24,
      "outputs": [
        {
          "output_type": "stream",
          "name": "stdout",
          "text": [
            "5145\n"
          ]
        }
      ]
    },
    {
      "cell_type": "markdown",
      "source": [
        "For each text chunk, we want the inputs and targets\n",
        "Since we want the model to predict the next word, the targets are the inputs shifted by one position to the right"
      ],
      "metadata": {
        "id": "Tkb733LBFgv3"
      }
    },
    {
      "cell_type": "code",
      "source": [
        "enc_sample = enc_text[50:]\n",
        "context_size = 4\n",
        "\n",
        "x = enc_sample[:context_size]\n",
        "y = enc_sample[1:context_size+1]\n",
        "\n",
        "print(f\"x: {x}\")\n",
        "print(f\"y:      {y}\")"
      ],
      "metadata": {
        "colab": {
          "base_uri": "https://localhost:8080/"
        },
        "id": "GdG3YBMuFSZL",
        "outputId": "4346c84a-4c71-4e95-db87-842f68148633"
      },
      "execution_count": 25,
      "outputs": [
        {
          "output_type": "stream",
          "name": "stdout",
          "text": [
            "x: [290, 4920, 2241, 287]\n",
            "y:      [4920, 2241, 287, 257]\n"
          ]
        }
      ]
    },
    {
      "cell_type": "code",
      "source": [
        "for i in range (1, context_size+1):\n",
        "    x = enc_sample[:i]\n",
        "    y = enc_sample[i:i+1]\n",
        "    print(x, \"---->\", y)"
      ],
      "metadata": {
        "colab": {
          "base_uri": "https://localhost:8080/"
        },
        "id": "4Ts67oj6F-n3",
        "outputId": "179c5b90-63a5-487a-8445-2c8a06508cad"
      },
      "execution_count": 26,
      "outputs": [
        {
          "output_type": "stream",
          "name": "stdout",
          "text": [
            "[290] ----> [4920]\n",
            "[290, 4920] ----> [2241]\n",
            "[290, 4920, 2241] ----> [287]\n",
            "[290, 4920, 2241, 287] ----> [257]\n"
          ]
        }
      ]
    },
    {
      "cell_type": "code",
      "source": [
        "!pip install torch torchvision torchaudio --index-url https://download.pytorch.org/whl/cu118\n"
      ],
      "metadata": {
        "colab": {
          "base_uri": "https://localhost:8080/"
        },
        "id": "qCBBS8vaIHc1",
        "outputId": "2b89725a-abbb-447c-86ad-12f5addd540e"
      },
      "execution_count": 27,
      "outputs": [
        {
          "output_type": "stream",
          "name": "stdout",
          "text": [
            "Looking in indexes: https://download.pytorch.org/whl/cu118\n",
            "Requirement already satisfied: torch in /usr/local/lib/python3.11/dist-packages (2.5.1+cu124)\n",
            "Requirement already satisfied: torchvision in /usr/local/lib/python3.11/dist-packages (0.20.1+cu124)\n",
            "Requirement already satisfied: torchaudio in /usr/local/lib/python3.11/dist-packages (2.5.1+cu124)\n",
            "Requirement already satisfied: filelock in /usr/local/lib/python3.11/dist-packages (from torch) (3.17.0)\n",
            "Requirement already satisfied: typing-extensions>=4.8.0 in /usr/local/lib/python3.11/dist-packages (from torch) (4.12.2)\n",
            "Requirement already satisfied: networkx in /usr/local/lib/python3.11/dist-packages (from torch) (3.4.2)\n",
            "Requirement already satisfied: jinja2 in /usr/local/lib/python3.11/dist-packages (from torch) (3.1.5)\n",
            "Requirement already satisfied: fsspec in /usr/local/lib/python3.11/dist-packages (from torch) (2024.10.0)\n",
            "INFO: pip is looking at multiple versions of torch to determine which version is compatible with other requirements. This could take a while.\n",
            "Collecting torch\n",
            "  Downloading https://download.pytorch.org/whl/cu118/torch-2.6.0%2Bcu118-cp311-cp311-linux_x86_64.whl.metadata (27 kB)\n",
            "Collecting nvidia-cuda-nvrtc-cu11==11.8.89 (from torch)\n",
            "  Downloading https://download.pytorch.org/whl/cu118/nvidia_cuda_nvrtc_cu11-11.8.89-py3-none-manylinux1_x86_64.whl (23.2 MB)\n",
            "\u001b[2K     \u001b[90m━━━━━━━━━━━━━━━━━━━━━━━━━━━━━━━━━━━━━━━━\u001b[0m \u001b[32m23.2/23.2 MB\u001b[0m \u001b[31m31.6 MB/s\u001b[0m eta \u001b[36m0:00:00\u001b[0m\n",
            "\u001b[?25hCollecting nvidia-cuda-runtime-cu11==11.8.89 (from torch)\n",
            "  Downloading https://download.pytorch.org/whl/cu118/nvidia_cuda_runtime_cu11-11.8.89-py3-none-manylinux1_x86_64.whl (875 kB)\n",
            "\u001b[2K     \u001b[90m━━━━━━━━━━━━━━━━━━━━━━━━━━━━━━━━━━━━━━━━\u001b[0m \u001b[32m875.6/875.6 kB\u001b[0m \u001b[31m13.1 MB/s\u001b[0m eta \u001b[36m0:00:00\u001b[0m\n",
            "\u001b[?25hCollecting nvidia-cuda-cupti-cu11==11.8.87 (from torch)\n",
            "  Downloading https://download.pytorch.org/whl/cu118/nvidia_cuda_cupti_cu11-11.8.87-py3-none-manylinux1_x86_64.whl (13.1 MB)\n",
            "\u001b[2K     \u001b[90m━━━━━━━━━━━━━━━━━━━━━━━━━━━━━━━━━━━━━━━━\u001b[0m \u001b[32m13.1/13.1 MB\u001b[0m \u001b[31m20.4 MB/s\u001b[0m eta \u001b[36m0:00:00\u001b[0m\n",
            "\u001b[?25hCollecting nvidia-cudnn-cu11==9.1.0.70 (from torch)\n",
            "  Downloading https://download.pytorch.org/whl/cu118/nvidia_cudnn_cu11-9.1.0.70-py3-none-manylinux2014_x86_64.whl (663.9 MB)\n",
            "\u001b[2K     \u001b[90m━━━━━━━━━━━━━━━━━━━━━━━━━━━━━━━━━━━━━━━━\u001b[0m \u001b[32m663.9/663.9 MB\u001b[0m \u001b[31m2.2 MB/s\u001b[0m eta \u001b[36m0:00:00\u001b[0m\n",
            "\u001b[?25hCollecting nvidia-cublas-cu11==11.11.3.6 (from torch)\n",
            "  Downloading https://download.pytorch.org/whl/cu118/nvidia_cublas_cu11-11.11.3.6-py3-none-manylinux1_x86_64.whl (417.9 MB)\n",
            "\u001b[2K     \u001b[90m━━━━━━━━━━━━━━━━━━━━━━━━━━━━━━━━━━━━━━━━\u001b[0m \u001b[32m417.9/417.9 MB\u001b[0m \u001b[31m3.6 MB/s\u001b[0m eta \u001b[36m0:00:00\u001b[0m\n",
            "\u001b[?25hCollecting nvidia-cufft-cu11==10.9.0.58 (from torch)\n",
            "  Downloading https://download.pytorch.org/whl/cu118/nvidia_cufft_cu11-10.9.0.58-py3-none-manylinux1_x86_64.whl (168.4 MB)\n",
            "\u001b[2K     \u001b[90m━━━━━━━━━━━━━━━━━━━━━━━━━━━━━━━━━━━━━━━━\u001b[0m \u001b[32m168.4/168.4 MB\u001b[0m \u001b[31m7.2 MB/s\u001b[0m eta \u001b[36m0:00:00\u001b[0m\n",
            "\u001b[?25hCollecting nvidia-curand-cu11==10.3.0.86 (from torch)\n",
            "  Downloading https://download.pytorch.org/whl/cu118/nvidia_curand_cu11-10.3.0.86-py3-none-manylinux1_x86_64.whl (58.1 MB)\n",
            "\u001b[2K     \u001b[90m━━━━━━━━━━━━━━━━━━━━━━━━━━━━━━━━━━━━━━━━\u001b[0m \u001b[32m58.1/58.1 MB\u001b[0m \u001b[31m11.3 MB/s\u001b[0m eta \u001b[36m0:00:00\u001b[0m\n",
            "\u001b[?25hCollecting nvidia-cusolver-cu11==11.4.1.48 (from torch)\n",
            "  Downloading https://download.pytorch.org/whl/cu118/nvidia_cusolver_cu11-11.4.1.48-py3-none-manylinux1_x86_64.whl (128.2 MB)\n",
            "\u001b[2K     \u001b[90m━━━━━━━━━━━━━━━━━━━━━━━━━━━━━━━━━━━━━━━━\u001b[0m \u001b[32m128.2/128.2 MB\u001b[0m \u001b[31m7.2 MB/s\u001b[0m eta \u001b[36m0:00:00\u001b[0m\n",
            "\u001b[?25hCollecting nvidia-cusparse-cu11==11.7.5.86 (from torch)\n",
            "  Downloading https://download.pytorch.org/whl/cu118/nvidia_cusparse_cu11-11.7.5.86-py3-none-manylinux1_x86_64.whl (204.1 MB)\n",
            "\u001b[2K     \u001b[90m━━━━━━━━━━━━━━━━━━━━━━━━━━━━━━━━━━━━━━━━\u001b[0m \u001b[32m204.1/204.1 MB\u001b[0m \u001b[31m5.7 MB/s\u001b[0m eta \u001b[36m0:00:00\u001b[0m\n",
            "\u001b[?25hCollecting nvidia-nccl-cu11==2.21.5 (from torch)\n",
            "  Downloading https://download.pytorch.org/whl/cu118/nvidia_nccl_cu11-2.21.5-py3-none-manylinux2014_x86_64.whl (147.8 MB)\n",
            "\u001b[2K     \u001b[90m━━━━━━━━━━━━━━━━━━━━━━━━━━━━━━━━━━━━━━━━\u001b[0m \u001b[32m147.8/147.8 MB\u001b[0m \u001b[31m6.6 MB/s\u001b[0m eta \u001b[36m0:00:00\u001b[0m\n",
            "\u001b[?25hCollecting nvidia-nvtx-cu11==11.8.86 (from torch)\n",
            "  Downloading https://download.pytorch.org/whl/cu118/nvidia_nvtx_cu11-11.8.86-py3-none-manylinux1_x86_64.whl (99 kB)\n",
            "\u001b[2K     \u001b[90m━━━━━━━━━━━━━━━━━━━━━━━━━━━━━━━━━━━━━━━━\u001b[0m \u001b[32m99.1/99.1 kB\u001b[0m \u001b[31m10.0 MB/s\u001b[0m eta \u001b[36m0:00:00\u001b[0m\n",
            "\u001b[?25hCollecting triton==3.2.0 (from torch)\n",
            "  Downloading https://download.pytorch.org/whl/triton-3.2.0-cp311-cp311-manylinux_2_27_x86_64.manylinux_2_28_x86_64.whl.metadata (1.4 kB)\n",
            "Requirement already satisfied: sympy==1.13.1 in /usr/local/lib/python3.11/dist-packages (from torch) (1.13.1)\n",
            "Requirement already satisfied: mpmath<1.4,>=1.1.0 in /usr/local/lib/python3.11/dist-packages (from sympy==1.13.1->torch) (1.3.0)\n",
            "Requirement already satisfied: numpy in /usr/local/lib/python3.11/dist-packages (from torchvision) (1.26.4)\n",
            "Requirement already satisfied: pillow!=8.3.*,>=5.3.0 in /usr/local/lib/python3.11/dist-packages (from torchvision) (11.1.0)\n",
            "Collecting torch\n",
            "  Downloading https://download.pytorch.org/whl/cu118/torch-2.5.1%2Bcu118-cp311-cp311-linux_x86_64.whl (838.4 MB)\n",
            "\u001b[2K     \u001b[90m━━━━━━━━━━━━━━━━━━━━━━━━━━━━━━━━━━━━━━━━\u001b[0m \u001b[32m838.4/838.4 MB\u001b[0m \u001b[31m1.2 MB/s\u001b[0m eta \u001b[36m0:00:00\u001b[0m\n",
            "\u001b[?25hRequirement already satisfied: triton==3.1.0 in /usr/local/lib/python3.11/dist-packages (from torch) (3.1.0)\n",
            "Requirement already satisfied: MarkupSafe>=2.0 in /usr/local/lib/python3.11/dist-packages (from jinja2->torch) (3.0.2)\n",
            "Installing collected packages: nvidia-nvtx-cu11, nvidia-nccl-cu11, nvidia-cusparse-cu11, nvidia-curand-cu11, nvidia-cufft-cu11, nvidia-cuda-runtime-cu11, nvidia-cuda-nvrtc-cu11, nvidia-cuda-cupti-cu11, nvidia-cublas-cu11, nvidia-cusolver-cu11, nvidia-cudnn-cu11, torch\n",
            "  Attempting uninstall: torch\n",
            "    Found existing installation: torch 2.5.1+cu124\n",
            "    Uninstalling torch-2.5.1+cu124:\n",
            "      Successfully uninstalled torch-2.5.1+cu124\n",
            "Successfully installed nvidia-cublas-cu11-11.11.3.6 nvidia-cuda-cupti-cu11-11.8.87 nvidia-cuda-nvrtc-cu11-11.8.89 nvidia-cuda-runtime-cu11-11.8.89 nvidia-cudnn-cu11-9.1.0.70 nvidia-cufft-cu11-10.9.0.58 nvidia-curand-cu11-10.3.0.86 nvidia-cusolver-cu11-11.4.1.48 nvidia-cusparse-cu11-11.7.5.86 nvidia-nccl-cu11-2.21.5 nvidia-nvtx-cu11-11.8.86 torch-2.5.1+cu118\n"
          ]
        }
      ]
    },
    {
      "cell_type": "code",
      "source": [
        "\n",
        "import torch\n",
        "print(\"PyTorch version:\", torch.__version__)"
      ],
      "metadata": {
        "colab": {
          "base_uri": "https://localhost:8080/"
        },
        "id": "hMKrfAsyIhzm",
        "outputId": "ba850a73-af7a-4a05-f6b9-7ac5d104b078"
      },
      "execution_count": 28,
      "outputs": [
        {
          "output_type": "stream",
          "name": "stdout",
          "text": [
            "PyTorch version: 2.5.1+cu118\n"
          ]
        }
      ]
    },
    {
      "cell_type": "code",
      "source": [
        "#### Creating a data loader ####\n",
        "\n",
        "from torch.utils.data import Dataset\n",
        "\n",
        "class GPTDatasetV1(Dataset):\n",
        "    def __init__(self, txt, tokenizer, max_length, stride):\n",
        "        self.input_ids = []\n",
        "        self.target_ids = []\n",
        "\n",
        "        # Tokenize the entire text\n",
        "        token_ids = tokenizer.encode(txt, allowed_special={\"<|endoftext|>\"})\n",
        "\n",
        "        # Use a sliding window to chunk the book into overlapping sequences of max_length\n",
        "        for i in range(0, len(token_ids) - max_length, stride):\n",
        "            input_chunk = token_ids[i:i + max_length]\n",
        "            target_chunk = token_ids[i + 1: i + max_length + 1]\n",
        "            self.input_ids.append(torch.tensor(input_chunk))\n",
        "            self.target_ids.append(torch.tensor(target_chunk))\n",
        "\n",
        "    def __len__(self):\n",
        "        return len(self.input_ids)\n",
        "\n",
        "    def __getitem__(self, idx):\n",
        "        return self.input_ids[idx], self.target_ids[idx]\n",
        "\n",
        "\n",
        "\n"
      ],
      "metadata": {
        "id": "hDv9c900ImmP"
      },
      "execution_count": 29,
      "outputs": []
    },
    {
      "cell_type": "code",
      "source": [
        "from torch.utils.data import Dataset, DataLoader"
      ],
      "metadata": {
        "id": "v2AoLIfNc6sG"
      },
      "execution_count": 30,
      "outputs": []
    },
    {
      "cell_type": "code",
      "source": [
        "### Defining a data loader\n",
        "\n",
        "def create_dataloader_v1(txt, batch_size=4, max_length=256,\n",
        "                         stride=128, shuffle=True, drop_last=True,\n",
        "                         num_workers=0):\n",
        "\n",
        "    # Initialize the tokenizer\n",
        "    tokenizer = tiktoken.get_encoding(\"gpt2\")\n",
        "\n",
        "    # Create dataset\n",
        "    dataset = GPTDatasetV1(txt, tokenizer, max_length, stride)\n",
        "\n",
        "    # Create dataloader\n",
        "    dataloader = DataLoader(\n",
        "        dataset,\n",
        "        batch_size=batch_size,\n",
        "        shuffle=shuffle,\n",
        "        drop_last=drop_last,\n",
        "        num_workers=num_workers\n",
        "    )\n",
        "    return dataloader"
      ],
      "metadata": {
        "id": "KaJBuSLTKuvu"
      },
      "execution_count": 31,
      "outputs": []
    },
    {
      "cell_type": "code",
      "source": [
        "### testing the data loader ###\n",
        "\n",
        "\n",
        "with open(\"the-verdict.txt\", \"r\", encoding=\"utf-8\") as f:\n",
        "    raw_text = f.read()\n"
      ],
      "metadata": {
        "id": "MBaK8pbicDDc"
      },
      "execution_count": 32,
      "outputs": []
    },
    {
      "cell_type": "code",
      "source": [
        "\n",
        "dataloader = create_dataloader_v1(\n",
        "    raw_text, batch_size=2, max_length=4, stride=1, shuffle=False\n",
        ")\n",
        "\n",
        "data_iter = iter(dataloader)\n",
        "first_batch = next(data_iter)\n",
        "print(first_batch)"
      ],
      "metadata": {
        "colab": {
          "base_uri": "https://localhost:8080/"
        },
        "id": "VEKVVD0ecb7l",
        "outputId": "8ca58e66-ca75-49f8-fb58-b5d36e746cb1"
      },
      "execution_count": 33,
      "outputs": [
        {
          "output_type": "stream",
          "name": "stdout",
          "text": [
            "[tensor([[  40,  367, 2885, 1464],\n",
            "        [ 367, 2885, 1464, 1807]]), tensor([[ 367, 2885, 1464, 1807],\n",
            "        [2885, 1464, 1807, 3619]])]\n"
          ]
        }
      ]
    },
    {
      "cell_type": "code",
      "source": [
        "### Creating Batched Outputs####\n",
        "\n",
        "dataloader = create_dataloader_v1(raw_text, batch_size=8, max_length=4, stride=4, shuffle=False)\n",
        "\n",
        "data_iter = iter(dataloader)\n",
        "inputs, targets = next(data_iter)\n",
        "print(\"Inputs:\\n\", inputs)\n",
        "print(\"\\nTargets:\\n\", targets)\n"
      ],
      "metadata": {
        "colab": {
          "base_uri": "https://localhost:8080/"
        },
        "id": "Rb5hBYqBcePk",
        "outputId": "b8565c86-8c93-4680-9b17-9a1828ce183a"
      },
      "execution_count": 34,
      "outputs": [
        {
          "output_type": "stream",
          "name": "stdout",
          "text": [
            "Inputs:\n",
            " tensor([[   40,   367,  2885,  1464],\n",
            "        [ 1807,  3619,   402,   271],\n",
            "        [10899,  2138,   257,  7026],\n",
            "        [15632,   438,  2016,   257],\n",
            "        [  922,  5891,  1576,   438],\n",
            "        [  568,   340,   373,   645],\n",
            "        [ 1049,  5975,   284,   502],\n",
            "        [  284,  3285,   326,    11]])\n",
            "\n",
            "Targets:\n",
            " tensor([[  367,  2885,  1464,  1807],\n",
            "        [ 3619,   402,   271, 10899],\n",
            "        [ 2138,   257,  7026, 15632],\n",
            "        [  438,  2016,   257,   922],\n",
            "        [ 5891,  1576,   438,   568],\n",
            "        [  340,   373,   645,  1049],\n",
            "        [ 5975,   284,   502,   284],\n",
            "        [ 3285,   326,    11,   287]])\n"
          ]
        }
      ]
    },
    {
      "cell_type": "code",
      "source": [
        "#### Create a token Embedding ###\n",
        "'''These Embeddings are part of LLMs and are updated during model training'''\n",
        "\n",
        "# Simple Example\n",
        "vocab_size = 6\n",
        "output_dim = 3\n",
        "\n",
        "torch.manual_seed(123)\n",
        "embedding_layer = torch.nn.Embedding(vocab_size, output_dim)\n",
        "\n"
      ],
      "metadata": {
        "id": "WEJoYs4sdhk1"
      },
      "execution_count": 35,
      "outputs": []
    },
    {
      "cell_type": "code",
      "source": [
        "print(embedding_layer.weight)"
      ],
      "metadata": {
        "id": "ZMArS5BWhrYT",
        "colab": {
          "base_uri": "https://localhost:8080/"
        },
        "outputId": "8c78ca5c-5a0d-477e-ad3a-32b26defb999"
      },
      "execution_count": 36,
      "outputs": [
        {
          "output_type": "stream",
          "name": "stdout",
          "text": [
            "Parameter containing:\n",
            "tensor([[ 0.3374, -0.1778, -0.1690],\n",
            "        [ 0.9178,  1.5810,  1.3010],\n",
            "        [ 1.2753, -0.2010, -0.1606],\n",
            "        [-0.4015,  0.9666, -1.1481],\n",
            "        [-1.1589,  0.3255, -0.6315],\n",
            "        [-2.8400, -0.7849, -1.4096]], requires_grad=True)\n"
          ]
        }
      ]
    },
    {
      "cell_type": "code",
      "source": [
        "# Convert Embedding layer into tensor\n",
        "\n",
        "print(embedding_layer(torch.tensor([3])))"
      ],
      "metadata": {
        "colab": {
          "base_uri": "https://localhost:8080/"
        },
        "id": "9GvIlC0UoNXz",
        "outputId": "4e1cd166-ac5b-465a-b657-003c72c06edf"
      },
      "execution_count": 37,
      "outputs": [
        {
          "output_type": "stream",
          "name": "stdout",
          "text": [
            "tensor([[-0.4015,  0.9666, -1.1481]], grad_fn=<EmbeddingBackward0>)\n"
          ]
        }
      ]
    },
    {
      "cell_type": "code",
      "source": [
        "\n",
        "input_ids = torch.tensor([2, 3, 5, 1])\n",
        "\n",
        "print(embedding_layer(input_ids))"
      ],
      "metadata": {
        "colab": {
          "base_uri": "https://localhost:8080/"
        },
        "id": "W7-5y6vYodzD",
        "outputId": "a1e17790-845d-4a29-dbef-44f34871f0d5"
      },
      "execution_count": 41,
      "outputs": [
        {
          "output_type": "stream",
          "name": "stdout",
          "text": [
            "tensor([[ 1.2753, -0.2010, -0.1606],\n",
            "        [-0.4015,  0.9666, -1.1481],\n",
            "        [-2.8400, -0.7849, -1.4096],\n",
            "        [ 0.9178,  1.5810,  1.3010]], grad_fn=<EmbeddingBackward0>)\n"
          ]
        }
      ]
    },
    {
      "cell_type": "code",
      "source": [
        "## Encoding Word Postions\n",
        "\n",
        "## Positional embedding are added into  word positions ###\n",
        "\n",
        "vocab_size = 50257\n",
        "output_dim = 256\n",
        "\n",
        "token_embedding_layer  = torch.nn.Embedding(vocab_size, output_dim)"
      ],
      "metadata": {
        "id": "v9nQeHpgoglj"
      },
      "execution_count": 42,
      "outputs": []
    },
    {
      "cell_type": "code",
      "source": [
        "### sample from the data loader ###\n",
        "\n",
        "\n",
        "max_length = 4\n",
        "dataloader = create_dataloader_v1(\n",
        "    raw_text, batch_size=8, max_length=max_length,\n",
        "    stride=max_length, shuffle=False\n",
        ")\n",
        "data_iter = iter(dataloader)\n",
        "inputs, targets = next(data_iter)"
      ],
      "metadata": {
        "id": "5x4aYBg1qfOV"
      },
      "execution_count": 43,
      "outputs": []
    },
    {
      "cell_type": "code",
      "source": [
        "\n",
        "max_length = 4\n",
        "dataloader = create_dataloader_v1(\n",
        "    raw_text, batch_size=8, max_length=max_length,\n",
        "    stride=max_length, shuffle=False\n",
        ")\n",
        "data_iter = iter(dataloader)\n",
        "inputs, targets = next(data_iter)"
      ],
      "metadata": {
        "id": "x1Rr9Tapq9fM"
      },
      "execution_count": 44,
      "outputs": []
    },
    {
      "cell_type": "code",
      "source": [],
      "metadata": {
        "colab": {
          "base_uri": "https://localhost:8080/"
        },
        "id": "pumdfk_Nq_A0",
        "outputId": "4eddf4cc-d5a4-4e00-8994-09aecd606f87"
      },
      "execution_count": 45,
      "outputs": [
        {
          "output_type": "execute_result",
          "data": {
            "text/plain": [
              "tensor([[  367,  2885,  1464,  1807],\n",
              "        [ 3619,   402,   271, 10899],\n",
              "        [ 2138,   257,  7026, 15632],\n",
              "        [  438,  2016,   257,   922],\n",
              "        [ 5891,  1576,   438,   568],\n",
              "        [  340,   373,   645,  1049],\n",
              "        [ 5975,   284,   502,   284],\n",
              "        [ 3285,   326,    11,   287]])"
            ]
          },
          "metadata": {},
          "execution_count": 45
        }
      ]
    },
    {
      "cell_type": "code",
      "source": [
        "token_embeddings = token_embedding_layer(inputs)\n",
        "print(token_embeddings.shape)"
      ],
      "metadata": {
        "colab": {
          "base_uri": "https://localhost:8080/"
        },
        "id": "vGsl8ebGrXC7",
        "outputId": "a7da78c5-e836-40f5-f39d-6c3962c367d9"
      },
      "execution_count": 46,
      "outputs": [
        {
          "output_type": "stream",
          "name": "stdout",
          "text": [
            "torch.Size([8, 4, 256])\n"
          ]
        }
      ]
    },
    {
      "cell_type": "code",
      "source": [
        "context_length = max_length\n",
        "pos_embedding_layer = torch.nn.Embedding(context_length, output_dim)"
      ],
      "metadata": {
        "id": "b6kXCV20rkK_"
      },
      "execution_count": 49,
      "outputs": []
    },
    {
      "cell_type": "code",
      "source": [],
      "metadata": {
        "id": "AEQmNGYBrn78"
      },
      "execution_count": null,
      "outputs": []
    }
  ]
}